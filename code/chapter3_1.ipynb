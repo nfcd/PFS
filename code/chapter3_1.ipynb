{
 "cells": [
  {
   "cell_type": "markdown",
   "id": "931003b5",
   "metadata": {},
   "source": [
    "## Chapter 3: Arrays\n",
    "\n",
    "Like lists, arrays are collections of items, but of the same type (e.g., all numbers or all strings). To use arrays, we need to import the [NumPy](https://numpy.org) library:"
   ]
  },
  {
   "cell_type": "code",
   "execution_count": null,
   "id": "ac867306",
   "metadata": {},
   "outputs": [],
   "source": [
    "import numpy as np # import numpy library under the alias np"
   ]
  },
  {
   "cell_type": "markdown",
   "id": "bd672301",
   "metadata": {},
   "source": [
    "However, contrary to lists, arrays need to be declared:"
   ]
  },
  {
   "cell_type": "code",
   "execution_count": null,
   "id": "a7c83e93",
   "metadata": {},
   "outputs": [],
   "source": [
    "my_array = np.array([-10, 30, 60, 90, 120, 150, -100]) # new array\n",
    "print(my_array)"
   ]
  },
  {
   "cell_type": "markdown",
   "id": "3b645276",
   "metadata": {},
   "source": [
    "Let’s modify the array:"
   ]
  },
  {
   "cell_type": "code",
   "execution_count": null,
   "id": "059adc3a",
   "metadata": {},
   "outputs": [],
   "source": [
    "my_array[0] = 0 # modify first element\n",
    "my_array[-1] = 180 # modify last element\n",
    "print(my_array)"
   ]
  },
  {
   "cell_type": "code",
   "execution_count": null,
   "id": "981410d3",
   "metadata": {},
   "outputs": [],
   "source": [
    "my_array = np.append(my_array,[240, 270, 300, 330, 360]) # append\n",
    "print(my_array)"
   ]
  },
  {
   "cell_type": "code",
   "execution_count": null,
   "id": "1f02fa5e",
   "metadata": {},
   "outputs": [],
   "source": [
    "my_array = np.insert(my_array,7,210) # insert element at index 7\n",
    "print(my_array) "
   ]
  },
  {
   "cell_type": "code",
   "execution_count": null,
   "id": "844695a2",
   "metadata": {},
   "outputs": [],
   "source": [
    "my_array = np.delete(my_array,-1) # delete last element\n",
    "print(my_array)"
   ]
  },
  {
   "cell_type": "markdown",
   "id": "831a722c",
   "metadata": {},
   "source": [
    "Notice that arrays do not have methods to append, insert, or delete elements. Instead, we use NumPy’s standalone `append()`, `insert()`, or `delete()` methods, each of which returns a new array. This means arrays are not ideal for collecting objects incrementally—every time we add an item, a new array is created. If you’re adding many items, this repeated copying can significantly slow down your code.\n",
    "\n",
    "Now, let’s use index ranges to print some elements of the array:"
   ]
  },
  {
   "cell_type": "code",
   "execution_count": null,
   "id": "690418b3",
   "metadata": {},
   "outputs": [],
   "source": [
    "print(my_array[4:8]) # print elements with indexes 4 to 7"
   ]
  },
  {
   "cell_type": "markdown",
   "id": "75a9149d",
   "metadata": {},
   "source": [
    "Index ranges are quite powerful. Suppose we want to calculate the differences between successive elements of the array. We can do this in one line of code as follows:"
   ]
  },
  {
   "cell_type": "code",
   "execution_count": null,
   "id": "25aa2a07",
   "metadata": {},
   "outputs": [],
   "source": [
    "# differences between succesive elements of my_array\n",
    "diffs = my_array[1:] - my_array[:-1]\n",
    "print(diffs)"
   ]
  },
  {
   "cell_type": "markdown",
   "id": "6c243fad",
   "metadata": {},
   "source": [
    "`my_array[1:]` contains the second to the last element of the array, while `my_array[:-1]` contains the first to the penultimate element of the array. Subtracting these two arrays gives us the differences between the elements of the array.\n",
    "\n",
    "This can also be accomplished using the Numpy `diff()` method."
   ]
  },
  {
   "cell_type": "code",
   "execution_count": null,
   "id": "a6347aa5",
   "metadata": {},
   "outputs": [],
   "source": [
    "diffs = np.diff(my_array) # alternative way to calculate differences\n",
    "print(diffs)"
   ]
  },
  {
   "cell_type": "markdown",
   "id": "aa143420",
   "metadata": {},
   "source": [
    "We can use the array `size` attribute to get the number of elements in the array:"
   ]
  },
  {
   "cell_type": "code",
   "execution_count": null,
   "id": "c6747491",
   "metadata": {},
   "outputs": [],
   "source": [
    "print(\"number of elements in array =\", my_array.size) "
   ]
  },
  {
   "cell_type": "markdown",
   "id": "11b6f9a5",
   "metadata": {},
   "source": [
    "and the `dtype` attribute to find out the type of elements in the array:"
   ]
  },
  {
   "cell_type": "code",
   "execution_count": null,
   "id": "dc85c9a6",
   "metadata": {},
   "outputs": [],
   "source": [
    "my_array.dtype"
   ]
  },
  {
   "cell_type": "markdown",
   "id": "76fd4233",
   "metadata": {},
   "source": [
    "## 2D arrays\n",
    "\n",
    "A 2D array is an array of 1D arrays. It can be constructed as follows:"
   ]
  },
  {
   "cell_type": "code",
   "execution_count": null,
   "id": "f9749be0",
   "metadata": {},
   "outputs": [],
   "source": [
    "# create a 3 x 4 array\n",
    "my_2d_array = np.array([[1, 2, 3, 4], [5, 6, 7, 8], \n",
    "                        [9, 10, 11, 12]])\n",
    "print(my_2d_array)\n",
    "print(my_2d_array.size)"
   ]
  },
  {
   "cell_type": "markdown",
   "id": "61e806ce",
   "metadata": {},
   "source": [
    "To access an element of the array, we use two indexes within brackets. The first index refers to the row, and the second index to the column of the array. Let's pick the element at row index 2 and column index 2:"
   ]
  },
  {
   "cell_type": "code",
   "execution_count": null,
   "id": "27d9de00",
   "metadata": {},
   "outputs": [],
   "source": [
    "# element in third row and third column\n",
    "print(my_2d_array[2,2])"
   ]
  },
  {
   "cell_type": "markdown",
   "id": "d1039013",
   "metadata": {},
   "source": [
    "Index ranges allow us to quickly access several elements of the array. This is referred to as *slicing* the array. Let’s access the 2nd row of the array:"
   ]
  },
  {
   "cell_type": "code",
   "execution_count": null,
   "id": "f8ebdfcb",
   "metadata": {},
   "outputs": [],
   "source": [
    "# second row of my_2d_array\n",
    "print(my_2d_array[1,:]) # my_2d_array[1] does the same"
   ]
  },
  {
   "cell_type": "markdown",
   "id": "0d174a65",
   "metadata": {},
   "source": [
    "And the 2nd column:"
   ]
  },
  {
   "cell_type": "code",
   "execution_count": null,
   "id": "9bb81023",
   "metadata": {},
   "outputs": [],
   "source": [
    "# second column of my_2d_array\n",
    "print(my_2d_array[:,1]) # : means all rows"
   ]
  },
  {
   "cell_type": "markdown",
   "id": "8c9163c5",
   "metadata": {},
   "source": [
    "We can of course select several rows or columns at once:"
   ]
  },
  {
   "cell_type": "code",
   "execution_count": null,
   "id": "5cc85a59",
   "metadata": {},
   "outputs": [],
   "source": [
    "# first two rows of my_2d_array\n",
    "print(my_2d_array[:2,:], \"\\n\") # my_2d_array[:2] does the same\n",
    "\n",
    "# last two columns of my_2d_array\n",
    "print(my_2d_array[:,2:]) "
   ]
  },
  {
   "cell_type": "markdown",
   "id": "d2caf0f9",
   "metadata": {},
   "source": [
    "We can use the array `shape` attribute to obtain the number of rows and columns in the array. This returns a tuple whose first element is the number of rows, and second element is the number of columns:"
   ]
  },
  {
   "cell_type": "code",
   "execution_count": null,
   "id": "4371f7c5",
   "metadata": {},
   "outputs": [],
   "source": [
    "print(my_2d_array.shape)\n",
    "\n",
    "# number of rows in my_2d_array\n",
    "print(\"number of rows in array =\", my_2d_array.shape[0]) \n",
    "\n",
    "# number of columns in my_2d_array\n",
    "print(\"number of columns in array =\", my_2d_array.shape[1]) "
   ]
  },
  {
   "cell_type": "markdown",
   "id": "7cebc3cb",
   "metadata": {},
   "source": [
    "## 3D arrays\n",
    "\n",
    "3D arrays work the same way, they are arrays of 2D arrays:"
   ]
  },
  {
   "cell_type": "code",
   "execution_count": null,
   "id": "a337833b",
   "metadata": {},
   "outputs": [],
   "source": [
    "my_3d_array = np.arange(24).reshape(2,3,4) # 2 x 3 x 4 array\n",
    "print(my_3d_array)"
   ]
  },
  {
   "cell_type": "markdown",
   "id": "5a5645e7",
   "metadata": {},
   "source": [
    "In the code above, the NumPy `arange()` method generates a 1D array of integers from 0 to 23. The array `reshape()` method, reshapes the array into a 3D array of two 2D arrays, each one with 3 rows and four columns. We can use indexes to slice the array:"
   ]
  },
  {
   "cell_type": "code",
   "execution_count": null,
   "id": "baed7ae1",
   "metadata": {},
   "outputs": [],
   "source": [
    "print(my_3d_array[0], \"\\n\") # first 2D array in 3D array\n",
    "print(my_3d_array[1], \"\\n\") # second 2D array in 3D array\n",
    "print(my_3d_array[0,1], \"\\n\") # second row of first 2D array \n",
    "print(my_3d_array[1,:,2], \"\\n\") # third column of second 2D array \n",
    "print(\"shape of array\", my_3d_array.shape) # shape of 3D array"
   ]
  },
  {
   "cell_type": "markdown",
   "id": "2ceb6bb8",
   "metadata": {},
   "source": [
    "Finally, the array `ndim` attribute tells us the dimensions of the array:"
   ]
  },
  {
   "cell_type": "code",
   "execution_count": null,
   "id": "f93a3d98",
   "metadata": {},
   "outputs": [],
   "source": [
    "print(my_array.ndim)\n",
    "print(my_2d_array.ndim)\n",
    "print(my_3d_array.ndim)"
   ]
  },
  {
   "cell_type": "markdown",
   "id": "ce107315",
   "metadata": {},
   "source": [
    "## Boolean arrays\n",
    "\n",
    "Comparison operators also work on arrays. Suppose we have two arrays with the months of the year, and their precipitation values in mm:"
   ]
  },
  {
   "cell_type": "code",
   "execution_count": null,
   "id": "5773bca0",
   "metadata": {},
   "outputs": [],
   "source": [
    "months = np.array([\"Jan\", \"Feb\", \"Mar\", \"Apr\", \"May\", \"Jun\", \n",
    "                   \"Jul\", \"Aug\", \"Sept\", \"Oct\", \"Nov\", \"Dec\"]) \n",
    "precip = np.array([142, 89, 114, 74, 53, 38, \n",
    "                   13, 25, 43, 109, 165, 137]) "
   ]
  },
  {
   "cell_type": "markdown",
   "id": "803698e9",
   "metadata": {},
   "source": [
    "Suppose we want to extract the months with precipitation higher than 100 mm. We can do the following:"
   ]
  },
  {
   "cell_type": "code",
   "execution_count": null,
   "id": "0b1ce2a3",
   "metadata": {},
   "outputs": [],
   "source": [
    "high_precip = precip > 100 \n",
    "\n",
    "print(high_precip, \"\\n\") # output array\n",
    "\n",
    "# Output months with precipitation > 100 mm\n",
    "print(\"Months with precipitation > 100 mm:\", months[high_precip]) \n",
    "print(\"Precipitation in these months:\", precip[high_precip])"
   ]
  },
  {
   "cell_type": "markdown",
   "id": "b6956867",
   "metadata": {},
   "source": [
    "`high_precip` is a Boolean array which we use to extract the high precipitation elements from the `months` and `precip` arrays. Wherever `high_precip` is `True` the elements of these arrays will be returned. This is a very efficient way to filter arrays (and in fact any collection).\n",
    "\n",
    "## Array operations\n",
    "\n",
    "There are two main groups of operations that involve NumPy arrays:\n",
    "\n",
    "- Element-wise operations\n",
    "- Linear algebra operations\n",
    "\n",
    "### Element-wise operations\n",
    "\n",
    "These are simple element-wise operations that involve an array, and array and\n",
    "a scalar, or two arrays of the same dimension. For example:"
   ]
  },
  {
   "cell_type": "code",
   "execution_count": null,
   "id": "dc31d29f",
   "metadata": {},
   "outputs": [],
   "source": [
    "print(np.around(np.sin(np.radians(my_array)),2)) # sine of my_array\n",
    "print(np.around(np.cos(np.radians(my_array)),2)) # cosine of my_array"
   ]
  },
  {
   "cell_type": "code",
   "execution_count": null,
   "id": "9207c720",
   "metadata": {},
   "outputs": [],
   "source": [
    "# create a 3 x 3 array\n",
    "array_a = np.array([[1, 2, 3], [4, 5, 6], [7, 8, 9]])\n",
    "print(array_a, \"\\n\") # print array_a\n",
    "\n",
    "print(array_a + 2, \"\\n\") # array plus scalar\n",
    "print(array_a - 2, \"\\n\") # array minus scalar\n",
    "print(array_a * 2, \"\\n\") # array times scalar\n",
    "print(array_a / 2, \"\\n\") # array divided by scalar\n",
    "print(array_a ** 2) # array elevated to the scalar"
   ]
  },
  {
   "cell_type": "code",
   "execution_count": null,
   "id": "43052708",
   "metadata": {},
   "outputs": [],
   "source": [
    "# Create another 3 x 3 array\n",
    "array_b = np.array([[9, 8, 7], [6, 5, 4], [3, 2, 1]])\n",
    "\n",
    "print(array_a + array_b, \"\\n\") # element-wise sum\n",
    "print(array_a - array_b, \"\\n\") # element-wise difference\n",
    "print(array_a * array_b, \"\\n\") # element-wise multiplication\n",
    "print(array_a / array_b, \"\\n\") # element-wise division\n",
    "print(array_a ** array_b) # element-wise exponentiation"
   ]
  },
  {
   "cell_type": "markdown",
   "id": "6c9cfe3d",
   "metadata": {},
   "source": [
    "Processing all elements of an array simultaneously can significantly speed up your code—a technique known as vectorization. Whenever possible, you should aim to vectorize your operations for better performance."
   ]
  },
  {
   "cell_type": "markdown",
   "id": "c645d235",
   "metadata": {},
   "source": [
    "## Linear algebra operations\n",
    "\n",
    "The NumPy library is an excellent tool for performing linear algebra operations. Let’s explore a few examples:"
   ]
  },
  {
   "cell_type": "code",
   "execution_count": null,
   "id": "06522bb2",
   "metadata": {},
   "outputs": [],
   "source": [
    "# create two vectors (1 x 3 arrays)\n",
    "vector_u = np.array([1, 2, 3])\n",
    "vector_v = np.array([4, 5, 6])\n",
    "\n",
    "# compute the magnitude of the vector u\n",
    "length_u = np.linalg.norm(vector_u)\n",
    "print(f\"{length_u:.3f}\") \n",
    "\n",
    "# make the vector a unit vector \n",
    "vector_uu = vector_u / length_u\n",
    "print(np.linalg.norm(vector_uu)) # output should be 1.0 \n",
    "\n",
    "# compute the dot product of the vectors\n",
    "print(np.dot(vector_u, vector_v))\n",
    "\n",
    "# compute the cross product of the vectors\n",
    "print(np.cross(vector_u, vector_v))"
   ]
  },
  {
   "cell_type": "code",
   "execution_count": null,
   "id": "58226dcf",
   "metadata": {},
   "outputs": [],
   "source": [
    "# create two conformable matrices\n",
    "# columns in matrix a = rows in matrix b\n",
    "matrix_a = np.array([[1, 2, 3], [4, 5, 6]]) # 2 x 3 matrix\n",
    "matrix_b = np.array([[7, 8], [9, 10], [11, 12]]) # 3 x 2 matrix\n",
    "\n",
    "# multiply the matrices, this gives a 2 x 2 matrix\n",
    "print(np.dot(matrix_a, matrix_b))"
   ]
  },
  {
   "cell_type": "code",
   "execution_count": null,
   "id": "88e217f9",
   "metadata": {},
   "outputs": [],
   "source": [
    "# create a square (rows = columns) 3 x 3 matrix\n",
    "matrix_c = np.array([[1, 7, 9], [3, 5, 8], [4, 2, 6]])\n",
    "\n",
    "print(matrix_c.T)\n",
    "\n",
    "# compute the determinant of the matrix\n",
    "print(np.around(np.linalg.det(matrix_c),4), \"\\n\") \n",
    "\n",
    "# compute the inverse of the matrix\n",
    "matrix_ci = np.linalg.inv(matrix_c)\n",
    "print(np.around(matrix_ci,4), \"\\n\") \n",
    "\n",
    "# the matrix times its inverse = the identity matrix\n",
    "print(np.around(np.dot(matrix_c, matrix_ci),4))"
   ]
  },
  {
   "cell_type": "markdown",
   "id": "38501835",
   "metadata": {},
   "source": [
    "Here we use NumPy’s linear algebra functions, some of which are found in the [linalg](https://numpy.org/doc/stable/reference/routines.linalg.html) package."
   ]
  }
 ],
 "metadata": {
  "kernelspec": {
   "display_name": "pfs",
   "language": "python",
   "name": "python3"
  },
  "language_info": {
   "codemirror_mode": {
    "name": "ipython",
    "version": 3
   },
   "file_extension": ".py",
   "mimetype": "text/x-python",
   "name": "python",
   "nbconvert_exporter": "python",
   "pygments_lexer": "ipython3",
   "version": "3.12.9"
  }
 },
 "nbformat": 4,
 "nbformat_minor": 5
}
