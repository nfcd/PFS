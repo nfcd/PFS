{
 "cells": [
  {
   "cell_type": "markdown",
   "id": "5b7aeb1c",
   "metadata": {},
   "source": [
    "## Chapter 5: Organizing code\n",
    "\n",
    "Getting code to run is only the beginning. As your projects grow, keeping things organized becomes just as important as making them work. Without structure, your code can quickly turn into spaghetti code—a tangled mess that’s hard to understand, reuse, or build on.\n",
    "\n",
    "Good organization is key to writing code that lasts. Whether you’re working solo or with others, how you structure your code affects how easily it can be read, maintained, and improved.\n",
    "\n",
    "In this chapter, we’ll explore how functions, classes, and modular programming bring clarity and structure to your code, helping you build programs that are both robust and scalable.\n",
    "\n",
    "## Functions\n",
    "\n",
    "A function is a reusable block of code that performs a specific task. It allows you to group related instructions under a single name, so you can run them whenever you need—without repeating yourself. Functions help make your code more organized, readable, and easier to maintain.\n",
    "\n",
    "The syntax of a function is as follows:\n",
    "\n",
    "```python\n",
    "def function_name(arg_1, arg_2, ...., arg_n):\n",
    "    statements\n",
    "    return val\n",
    "```\n",
    "`def` is the header of the function, it generates the function object and assigns\n",
    "a name to it. In the parentheses, the input parameters are included. When the function does not have any input parameter, then the parentheses is left empty. After the colon (`:`), the function statements are included. The `return` statement returns a value. If `val` is not specified, the function returns None. Both `val` and the `return` statement are optional.\n",
    "\n",
    "Let’s turn the code that reads data from Factpages into a function:"
   ]
  },
  {
   "cell_type": "code",
   "execution_count": null,
   "id": "993a3741",
   "metadata": {},
   "outputs": [],
   "source": [
    "# import libraries required for the notebook\n",
    "import os # import os to work with directories\n",
    "import requests # import requests (for HTTP requests)\n",
    "from io import StringIO # import StringIO (for reading the data)\n",
    "import numpy as np # import numpy as np\n",
    "import pandas as pd # import pandas as pd\n",
    "import matplotlib.pyplot as plt # import matplotlib.pyplot as plt\n",
    "from scipy import integrate # import scipy integrate module "
   ]
  },
  {
   "cell_type": "code",
   "execution_count": null,
   "id": "f8b442a0",
   "metadata": {},
   "outputs": [],
   "source": [
    "def read_factpages(descriptor):\n",
    "    \"\"\"\n",
    "    Read data from NOD factpages\n",
    "    Input:\n",
    "        descriptor: String with NOD descriptor, \n",
    "        e.g. \"field_production_monthly\"\n",
    "    Output:\n",
    "        df: DataFrame with the data or\n",
    "        empty if data could not be read\n",
    "    \"\"\"\n",
    "    # construct the URL\n",
    "    u_1 = \"https://factpages.sodir.no/public?/Factpages/external/tableview/\"\n",
    "    u_2 = \"&rs:Command=Render&rc:Toolbar=false&rc:Parameters=f\"\n",
    "    u_3 = \"&IpAddress=not_used&CultureCode=en&rs:Format=CSV&Top100=false\"\n",
    "    url = u_1 + descriptor + u_2 + u_3\n",
    "\n",
    "    # create an empty DataFrame\n",
    "    df = pd.DataFrame()\n",
    "\n",
    "    # request the data\n",
    "    response = requests.get(url)\n",
    "    # if the request was successful\n",
    "    if response.status_code == 200:\n",
    "        # load csv data into a DataFrame\n",
    "        df = pd.read_csv(StringIO(response.text))\n",
    "    else:\n",
    "        print(f\"Error: {response.status_code}\")\n",
    "    \n",
    "    return df"
   ]
  },
  {
   "cell_type": "markdown",
   "id": "a84fdc1e",
   "metadata": {},
   "source": [
    "The text enclosed in triple quotes is called a *docstring*—it describes what the\n",
    "function does. Including a clear and concise docstring is always a good habit,\n",
    "as it helps others (and your future self) understand the purpose of the function.\n",
    "In VS Code, this information can be accessed anytime using IntelliSense.\n",
    "\n",
    "Now we can use the function to read data:"
   ]
  },
  {
   "cell_type": "code",
   "execution_count": null,
   "id": "b776c3e2",
   "metadata": {},
   "outputs": [],
   "source": [
    "# monthly field production\n",
    "df = read_factpages(\"field_production_monthly\")\n",
    "df.info()"
   ]
  },
  {
   "cell_type": "markdown",
   "id": "53362f7e",
   "metadata": {},
   "source": [
    "By accepting a `descriptor` as input, the function becomes flexible and reusable—it can read any dataset from Factpages, as long as we know the corresponding descriptor. For example:"
   ]
  },
  {
   "cell_type": "code",
   "execution_count": null,
   "id": "267f079d",
   "metadata": {},
   "outputs": [],
   "source": [
    "# long list of all exploration wells\n",
    "df = read_factpages(\"wellbore_exploration_all\")\n",
    "df.info()"
   ]
  },
  {
   "cell_type": "markdown",
   "id": "c7d592b3",
   "metadata": {},
   "source": [
    "Let’s try another example. The area of a polygon of any shape (except one that crosses itself) can be written as:\n",
    "\n",
    "$$\n",
    "A=\\frac{1}{2} \\sum_{i=1}^n\\left(x_i y_{i+1}-x_{i+1} y_i\\right) \\text { if } i+1>n, i+1=1\n",
    "$$\n",
    "\n",
    "where $n$ is the number of points in the polygon, and ($x_i,y_i$) are the $x$ and\n",
    "$y$ coordinates of the points. For example, for a four points polygon the area is:\n",
    "\n",
    "$$A=\\frac{1}{2}\\left(x_1 y_2-x_2 y_1+x_2 y_3-x_3 y_2+x_3 y_4-x_4 y_3+x_4 y_1-x_1 y_4\\right)$$\n",
    "\n",
    "This equation returns a positive area if the points are ordered counterclockwise,or a negative area if the points are ordered clockwise. Let’simplement a function that computes the area of a polygon using this formula:"
   ]
  },
  {
   "cell_type": "code",
   "execution_count": null,
   "id": "e5fb9e52",
   "metadata": {},
   "outputs": [],
   "source": [
    "def polyg_area(x,y):\n",
    "    \"\"\"\n",
    "    calculate and return the area of a polygon\n",
    "    from the x and y coordinates of its points\n",
    "    Note: points must be in sequential order\n",
    "    \"\"\"\n",
    "    npoints = x.size # number of points\n",
    "    area = 0.0 # initialize area\n",
    "    \n",
    "    # calculate polygon's area\n",
    "    for i in range(npoints): \n",
    "        # index of the next point\n",
    "        next_i = i + 1 \n",
    "        if i == npoints-1: # if last point\n",
    "            next_i = 0\n",
    "        # calculate area \n",
    "        area += (x[i]*y[next_i] - y[i]*x[next_i])\n",
    "    \n",
    "    # return area\n",
    "    return np.abs(area)/2 "
   ]
  },
  {
   "cell_type": "markdown",
   "id": "cbf33439",
   "metadata": {},
   "source": [
    "Surprisingly, this function can be shortened to one line of code! To understand why the code below works, check the NumPy [roll](https://numpy.org/doc/2.2/reference/generated/numpy.roll.html) and [dot](https://numpy.org/doc/stable/reference/generated/numpy.dot.html) methods."
   ]
  },
  {
   "cell_type": "code",
   "execution_count": null,
   "id": "81d6a67a",
   "metadata": {},
   "outputs": [],
   "source": [
    "def polyg_area(x,y):\n",
    "    \"\"\"\n",
    "    calculate and return the area of a polygon\n",
    "    from the x and y coordinates of its points \n",
    "    Note: points must be in sequential order\n",
    "    \"\"\"\n",
    "    return 0.5*np.abs(np.dot(x, np.roll(y,1))\n",
    "                      - np.dot(y, np.roll(x,1)))"
   ]
  },
  {
   "cell_type": "markdown",
   "id": "2b032dd4",
   "metadata": {},
   "source": [
    "The file [net_oil.txt](../data/net_oil.txt) in the data directory, contains the x(east), y (north), and z (value) of contours in an isochore map (vertical thickness) of net oil in a trap. All values are in meters. Let’s compute the volume of the trap. We first\n",
    "determine the area of the contours using our function:"
   ]
  },
  {
   "cell_type": "code",
   "execution_count": null,
   "id": "69cc926c",
   "metadata": {},
   "outputs": [],
   "source": [
    "path = os.path.join(\"..\", \"data\", \"net_oil.txt\") \n",
    "contours = np.loadtxt(path) # read the contours\n",
    "\n",
    "c_values = np.unique(contours[:,2]) # contour values\n",
    "c_areas = np.zeros(c_values.size) # initialize areas\n",
    "\n",
    "for i in range(c_values.size):\n",
    "    # extract contour\n",
    "    contour = contours[contours[:,2] == c_values[i]] \n",
    "    # calculate area\n",
    "    c_areas[i] = polyg_area(contour[:,0],contour[:,1])\n",
    "    # plot contour\n",
    "    plt.plot(contour[:,0],contour[:,1],\".\",markersize=2)\n",
    "\n",
    "print(\"Areas in m2 = \", c_areas.astype(int)) # print areas\n",
    "plt.axis(\"equal\") # set equal axis\n",
    "plt.show() # show plot"
   ]
  },
  {
   "cell_type": "markdown",
   "id": "846317cb",
   "metadata": {},
   "source": [
    "In the code above, we also plotted the contours using the [Matplotlib](https://matplotlib.org) library. While this will be covered in more detail in Chapter 6, for now just notice how straightforward it is to visualize data in Python.\n",
    "\n",
    "Mathematically, the volume of the trap can be expressed as:\n",
    "\n",
    "$$V=\\int_a^b A(z) d z$$\n",
    "\n",
    "To understand why this works, imagine slicing the volume into many horizontal layers—these are the contours. We can estimate the volume between each pair of adjacent contours and then sum them all to obtain the total volume.\n",
    "\n",
    "So, to calculate the volume, we need to perform an integration. We can do this using the [scipy.integrate](https://docs.scipy.org/doc/scipy/tutorial/integrate.html) module. In the code below, we use the trapezoidal rule—implemented as the `trapezoid()` method—to carry out the integration:"
   ]
  },
  {
   "cell_type": "code",
   "execution_count": null,
   "id": "485e3989",
   "metadata": {},
   "outputs": [],
   "source": [
    "v_oil = integrate.trapezoid(c_areas, c_values) # volume of oil\n",
    "print(f\"Volume of oil: {v_oil:.0f} m3 or {v_oil*6.2898:.0f} bbl\") "
   ]
  },
  {
   "cell_type": "markdown",
   "id": "3eb85eb6",
   "metadata": {},
   "source": [
    "## Classes\n",
    "\n",
    "Object-oriented design underpins many of Python’s libraries and tools. Python is fundamentally an object-oriented programming (OOP) language. It organizes code around objects—structures that combine data with the functions (called methods) that operate on that data. The two main building blocks of OOP are classes and objects.\n",
    "\n",
    "A class is a blueprint for creating objects. It defines the shared structure and behavior its instances will have. For example, an `Employee` class might include attributes like `name` and `salary`, and a method like `raise_salary`. From this class, you can create multiple employee objects, each with their own data but the same general behavior.\n",
    "\n",
    "Python makes working with classes simple. Here’s a basic class definition:\n",
    "\n",
    "```python\n",
    "class ClassName\n",
    "    def __init__(self, parameters):\n",
    "        # initialization code\n",
    "        self.attribute = value\n",
    "    \n",
    "    def method(self):\n",
    "        # method code\n",
    "```\n",
    "Let’s look at a simple example that defines a `Circle` class:"
   ]
  },
  {
   "cell_type": "code",
   "execution_count": null,
   "id": "17e375a0",
   "metadata": {},
   "outputs": [],
   "source": [
    "class Circle:\n",
    "    \"\"\"\n",
    "    A class that implements a circle\n",
    "    \"\"\"\n",
    "    # initialization requires center [x, y]\n",
    "    # and radius of circle    \n",
    "    def __init__(self, center, radius):\n",
    "        self.center = center\n",
    "        self.radius = radius\n",
    "    \n",
    "    # methods\n",
    "    \n",
    "    # circumference\n",
    "    def circumference(self):\n",
    "        return 2 * np.pi * self.radius\n",
    "    \n",
    "    # area\n",
    "    def area(self):\n",
    "        return np.pi * self.radius ** 2\n",
    "    \n",
    "    # x and y coordinates defining circle\n",
    "    def coordinates(self):\n",
    "        theta = np.arange(0,360) * np.pi / 180\n",
    "        x = self.radius * np.cos(theta) + self.center[0]\n",
    "        y = self.radius * np.sin(theta) + self.center[1]\n",
    "        return x, y\n",
    "    \n",
    "    # shift center in x\n",
    "    def shift_in_x(self, x_value):\n",
    "        self.center[0] += x_value\n",
    "    \n",
    "    # shift center in y\n",
    "    def shift_in_y(self, y_value):\n",
    "        self.center[1] += y_value"
   ]
  },
  {
   "cell_type": "markdown",
   "id": "bb70c6d0",
   "metadata": {},
   "source": [
    "Now let’s use this class to fill a 20 × 20 unit square with circles of radius 1.\n",
    "We’ll also calculate the areal porosity, which measures the fraction of the area\n",
    "not occupied by the circles."
   ]
  },
  {
   "cell_type": "code",
   "execution_count": null,
   "id": "97564522",
   "metadata": {},
   "outputs": [],
   "source": [
    "area_circles = 0.0 # initialize circles area\n",
    "my_circle = Circle([-1, -1],1) # unit circle with center -1,-1\n",
    "\n",
    "# use two nested loops\n",
    "# i moves circle in y\n",
    "# j moves circle in x\n",
    "for i in range(10):\n",
    "    my_circle.center[0] = -1 # reset x of circle center to -1\n",
    "    my_circle.shift_in_y(2) # shift circle in y 2 units\n",
    "    for j in range(10):\n",
    "        my_circle.shift_in_x(2) # shift circle in x 2 units\n",
    "        area_circles += my_circle.area() # update circles area\n",
    "        x, y = my_circle.coordinates() # circle coordinates\n",
    "        plt.plot(x,y,'r-') # plot circle\n",
    "\n",
    "plt.axis(\"square\") # square axis\n",
    "plt.xlim([0, 20]) # x axis limits\n",
    "plt.ylim([0, 20]) # y axis limits\n",
    "\n",
    "# estimate and print areal porosity\n",
    "area_total = 20 * 20\n",
    "area_voids = area_total - area_circles\n",
    "print(f\"Areal porosity = {area_voids/area_total:.2f}\")"
   ]
  },
  {
   "cell_type": "markdown",
   "id": "e16c1e6a",
   "metadata": {},
   "source": [
    "Note that only a single `Circle` instance (`my_circle`) is created in the second line of the code. This circle is then shifted in the `y` (`shift_in_y()`) and `x` (`shift_in_x()`) directions within two nested loops to fill the square. In each iteration, the circle area is calculated using the `area()` method and added to the total. The coordinates of points along the circumference are generated using the `coordinates()` method and plotted with the Matplotlib `plot()` function.\n",
    "\n",
    "Let’s look at another example. Building on our code to read data from Factpages, we’ll now define a top-level class responsible for setting up the main URL components and loading data from a descriptor."
   ]
  },
  {
   "cell_type": "code",
   "execution_count": null,
   "id": "e6c1ac7a",
   "metadata": {},
   "outputs": [],
   "source": [
    "class FP_reader:\n",
    "    \"\"\"\n",
    "    Class to read NOD factpages\n",
    "    \"\"\"\n",
    "    def __init__(self):\n",
    "        \"\"\"\n",
    "        initialize strings to construct \n",
    "        the URL as of May 2025\n",
    "        \"\"\"\n",
    "        self.u_1 = \"https://factpages.sodir.no/public?/Factpages/external/tableview/\"\n",
    "        self.u_2 = \"&rs:Command=Render&rc:Toolbar=false&rc:Parameters=f\"\n",
    "        self.u_3 = \"&IpAddress=not_used&CultureCode=en&rs:Format=CSV&Top100=false\"\n",
    "    \n",
    "    def read(self, descriptor):\n",
    "        \"\"\"\n",
    "        Read data from NOD factpages\n",
    "        Input:\n",
    "            descriptor: NOD descriptor, \n",
    "            e.g. \"field_production_monthly\"\n",
    "        Output:\n",
    "            df: DataFrame with the data or\n",
    "            empty if data could not be read\n",
    "        \"\"\"\n",
    "        # construct the URL\n",
    "        url = self.u_1 + descriptor + self.u_2 + self.u_3\n",
    "\n",
    "        # request the data\n",
    "        response = requests.get(url)\n",
    "        # if the request was successful\n",
    "        if response.status_code == 200:\n",
    "            # load csv data into a DataFrame\n",
    "            self.df = pd.read_csv(StringIO(response.text))\n",
    "        else:\n",
    "            print(f\"Error: {response.status_code}\")\n",
    "        \n",
    "        return self.df"
   ]
  },
  {
   "cell_type": "markdown",
   "id": "6cc65cad",
   "metadata": {},
   "source": [
    "Next, we’ll create a class that inherits from the top-level class and is responsible for reading data from specific fields."
   ]
  },
  {
   "cell_type": "code",
   "execution_count": null,
   "id": "f7461d3c",
   "metadata": {},
   "outputs": [],
   "source": [
    "class Field(FP_reader):\n",
    "    \"\"\" \n",
    "    Class to read field data from NOD factpages \n",
    "    \"\"\"\n",
    "    def __init__(self):\n",
    "        \"\"\"\n",
    "        Initialize field class\n",
    "        \"\"\"\n",
    "        # call parent class\n",
    "        super().__init__()\n",
    "\n",
    "    def monthly_production(self, fields=[]):\n",
    "        \"\"\"\n",
    "        Read field production monthly data\n",
    "        Input:\n",
    "            fields: list of field names. Pass\n",
    "            empty list to read all fields\n",
    "        Output:\n",
    "            df: DataFrame with the data or\n",
    "            empty if data could not be read\n",
    "        \"\"\"\n",
    "        # call parent class method\n",
    "        df = self.read(\"field_production_monthly\")\n",
    "        # if df and fields are not empty\n",
    "        if not df.empty and len(fields) > 0:\n",
    "            # filter by field names\n",
    "            df = df[df[\"prfInformationCarrier\"].isin(fields)]\n",
    "\n",
    "        return df          "
   ]
  },
  {
   "cell_type": "markdown",
   "id": "20bad728",
   "metadata": {},
   "source": [
    "Note that the `Field` class currently has just one method, but it’s easy to extend the class by adding more methods to read additional datasets from the *Field* category in Factpages. Let’s read the monthly production from ConocoPhillips fields using the class:"
   ]
  },
  {
   "cell_type": "code",
   "execution_count": null,
   "id": "8e0acdfe",
   "metadata": {},
   "outputs": [],
   "source": [
    "# read monthly production data\n",
    "# of ConocoPhillips fields\n",
    "fields = [\"EKOFISK\", \"ELDFISK\", \"TOMMELITEN GAMMA\", \n",
    "          \"TOR\", \"VEST EKOFISK\", \"ALBUSKJELL\", \"VALHALL\", \n",
    "          \"HOD\", \"TOMMELITEN A\"]\n",
    "\n",
    "field = Field() # create field object\n",
    "df = field.monthly_production(fields) # read data\n",
    "df.info() # print info"
   ]
  },
  {
   "cell_type": "markdown",
   "id": "643d1cab",
   "metadata": {},
   "source": [
    "## Modular programming\n",
    "\n",
    "The functions and classes we’ve created so far are only available within the current notebook. Wouldn’t it be convenient to store them in a way that allows us to easily import and use them in any other file when needed? In Python, we can achieve this by organizing them into *modules* and *packages*.\n",
    "\n",
    "A module is a Python source file (`.py`) that contains code designed to perform a specific task. For example, the first Python file we created in this course,`my_first_code.py`, is actually a module. A package is a directory that contains modules or data, along with an initialization file (`__init__.py`), which signals to Python that the directory should be treated as a package.\n",
    "\n",
    "To illustrate this, we have created a package called factpages to handle reading data from Factpages. In your code directory, look at the folder called factpages. Within this folder, there are three files: __init__.py, reader.py and field.py.\n",
    "\n",
    "- The [reader.py](factpages/reader.py) file has the code we wrote before to create the `FP_reader` class.\n",
    "\n",
    "- The [field.py](factpages/field.py) file has the code we previously wrote to define the `Field` class. Additional functions for working with the *Field* category of Factpages are also included. Note that the `field` module imports the class `FP_reader` from\n",
    "the `reader` module. This is necessary since `Field` inherits from `FP_reader`.\n",
    "\n",
    "- We want to be able to call the functions directly from the package. To achieve this, in the [__init__.py](factpages/__init__.py) file we import all functions from the modules into the main package namespace, making them accessible directly from the package.\n",
    "\n",
    "Now we can use our package. Before running the cell below in the chapter’s notebook, make sure to clear all outputs and restart the kernel. This ensures that we’re starting with a clean slate."
   ]
  },
  {
   "cell_type": "code",
   "execution_count": null,
   "id": "baf37b24",
   "metadata": {},
   "outputs": [],
   "source": [
    "import factpages as fp # import our package\n",
    "\n",
    "# read monthly production data\n",
    "# of ConocoPhillips fields\n",
    "fields = [\"EKOFISK\", \"ELDFISK\", \"TOMMELITEN GAMMA\", \n",
    "          \"TOR\", \"VEST EKOFISK\", \"ALBUSKJELL\", \"VALHALL\", \n",
    "          \"HOD\", \"TOMMELITEN A\"]\n",
    "field = fp.Field() # create field object\n",
    "df = field.monthly_production(fields) # read monthly production data\n",
    "df.info() # print info"
   ]
  },
  {
   "cell_type": "markdown",
   "id": "835bfda6",
   "metadata": {},
   "source": [
    "And we can try with another method:"
   ]
  },
  {
   "cell_type": "code",
   "execution_count": null,
   "id": "a76a42b1",
   "metadata": {},
   "outputs": [],
   "source": [
    "df = field.investments(fields) # read investments data\n",
    "df.info() # print info"
   ]
  },
  {
   "cell_type": "markdown",
   "id": "ab3c5a04",
   "metadata": {},
   "source": [
    "I hope this gives you a sense of the power behind structuring your code into modules and packages. While we’ve only scratched the surface, I hope it inspires you to explore more about modular programming."
   ]
  },
  {
   "cell_type": "markdown",
   "id": "eee1989d",
   "metadata": {},
   "source": [
    "## Exercise\n",
    "\n",
    "Expand the functionality of the factpages package by adding a module to work with the *Wellbore* category. This module should have functions for extracting:\n",
    "\n",
    "- The current year exploration wellbores: descriptor: `wellbore_exploration_current_year`\n",
    "\n",
    "- The last year exploration wellbores: descriptor: `wellbore_exploration_last_year`\n",
    "\n",
    "- The last 10 years exploration wellbores: descriptor: `wellbore_exploration_last_10_years`\n",
    "\n",
    "- Short list of all exploration wellbores: descriptor: `wellbore_exploration_all_short`\n",
    "\n",
    "- Long list of all exploration wellbores: descriptor: `wellbore_exploration_all`\n",
    "\n",
    "- Development wellbores: descriptor: `wellbore_development_all`\n",
    "\n",
    "- Other wellbores: descriptor: `wellbore_other_all`\n",
    "\n",
    "- CO2 storage wellbores: descriptor: `wellbore_co2_storage`\n",
    "\n",
    "All these functions should allow filtering the output by fields (`wlbField` column) and completion year (`wlbCompletionYear` column).\n"
   ]
  }
 ],
 "metadata": {
  "kernelspec": {
   "display_name": "pfs",
   "language": "python",
   "name": "python3"
  },
  "language_info": {
   "codemirror_mode": {
    "name": "ipython",
    "version": 3
   },
   "file_extension": ".py",
   "mimetype": "text/x-python",
   "name": "python",
   "nbconvert_exporter": "python",
   "pygments_lexer": "ipython3",
   "version": "3.12.9"
  }
 },
 "nbformat": 4,
 "nbformat_minor": 5
}
