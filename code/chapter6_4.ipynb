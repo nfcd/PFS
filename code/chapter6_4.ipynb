{
 "cells": [
  {
   "cell_type": "markdown",
   "id": "5718f328",
   "metadata": {},
   "source": [
    "## Chapter 6: Plotting DataFrames\n",
    "\n",
    "DataFrames in Pandas come with built-in plotting capabilities that make it easy to visualize data directly. Under the hood, a DataFrame acts as a lightweight wrapper around Matplotlib’s `pyplot` interface, allowing you to quickly create a variety of plots — like line graphs, bar charts, and area plots — using simple method calls such as `plot()`. This makes it convenient to explore and present data without needing to manually set up a full Matplotlib workflow.\n",
    "\n",
    "Let’s look at an example using the Factpages data on monthly field production from the NCS. We’ll start by reading the data with our `factpages` package:"
   ]
  },
  {
   "cell_type": "code",
   "execution_count": null,
   "id": "cbbc190c",
   "metadata": {},
   "outputs": [],
   "source": [
    "# import libraries required for the notebook\n",
    "import pandas as pd # import pandas as pd\n",
    "import hvplot.pandas # import hvplot to plot DataFrames\n",
    "import factpages as fp # import our Factpages package"
   ]
  },
  {
   "cell_type": "code",
   "execution_count": null,
   "id": "4cf5a9b7",
   "metadata": {},
   "outputs": [],
   "source": [
    "# read monthly production data of ConocoPhillips fields\n",
    "fields = [\"EKOFISK\", \"ELDFISK\", \"TOMMELITEN GAMMA\", \n",
    "          \"TOR\", \"VEST EKOFISK\", \"ALBUSKJELL\", \"VALHALL\", \n",
    "          \"HOD\", \"TOMMELITEN A\"]\n",
    "\n",
    "field = fp.Field() # create field object\n",
    "\n",
    "df = field.monthly_production(fields) # read data\n",
    "\n",
    "df.head() # show first 5 rows"
   ]
  },
  {
   "cell_type": "markdown",
   "id": "ec206569",
   "metadata": {},
   "source": [
    "Before we can plot the data, we need to do some preparation. The code below:\n",
    "\n",
    "1. Renames the columns to more meaningful names, including year and month.\n",
    "\n",
    "2. Creates a `Date` column by combining the `year` and `month` columns.\n",
    "\n",
    "3. Drops unnecessary columns.\n",
    "\n",
    "4. Sets the `Date` column as the index— this is important for plotting the production data over time.\n",
    "\n",
    "5. Checks the result."
   ]
  },
  {
   "cell_type": "code",
   "execution_count": null,
   "id": "7231e775",
   "metadata": {},
   "outputs": [],
   "source": [
    "# Make a full copy first to avoid SettingWithCopyWarning\n",
    "df = df.copy()\n",
    "\n",
    "# get the columns names\n",
    "columns = df.columns.to_list()\n",
    "\n",
    "# Rename columns\n",
    "df.rename(columns={columns[1]:\"year\", columns[2]:\"month\",\n",
    "                   columns[3]:\"Oil MSm3\", columns[4]:\"Gas BSm3\",\n",
    "                   columns[5]:\"NGL MSm3\", \n",
    "                   columns[6]:\"Condensate MSm3\",\n",
    "                   columns[7]:\"Oil eq. MSm3\", \n",
    "                   columns[8]:\"Water MSm3\"}, \n",
    "                   inplace=True)\n",
    "\n",
    "# Make a Date column from the year and month columns\n",
    "df[\"Date\"] = pd.to_datetime(df[[\"year\", \"month\"]].assign(day=1))\n",
    "\n",
    "# Drop the unnecessary columns \n",
    "df.drop(columns=[\"year\", \"month\", columns[9]], inplace=True)\n",
    "\n",
    "# Set the Date column as index\n",
    "df.set_index(\"Date\", inplace=True)\n",
    "\n",
    "# Check the result\n",
    "df.head()"
   ]
  },
  {
   "cell_type": "markdown",
   "id": "e311d9fc",
   "metadata": {},
   "source": [
    "We now have the data in the form we need. Let’s plot the production from the Ekofisk field — impressively, just a few lines of code will do the job:"
   ]
  },
  {
   "cell_type": "code",
   "execution_count": null,
   "id": "5d7ad6bb",
   "metadata": {},
   "outputs": [],
   "source": [
    "# extract data for a specific field\n",
    "field = \"EKOFISK\" \n",
    "df_field = df[df[\"prfInformationCarrier\"] == field] \n",
    "\n",
    "# plot the production data\n",
    "axs = df_field.plot(kind=\"area\",subplots=True, figsize=(12,9));\n",
    "\n",
    "# y axes limits\n",
    "max_value = df_field[\"Oil eq. MSm3\"].max() * 1\n",
    "for ax in axs:\n",
    "    ax.set_ylim(0, max_value)"
   ]
  },
  {
   "cell_type": "markdown",
   "id": "a1f5f250",
   "metadata": {},
   "source": [
    "While the basic `plot()` method gives us quick and useful plots, we can create even better and interactive visualizations using [hvplot](https://hvplot.holoviz.org), a powerful library that extends DataFrame plotting with rich, interactive features. Let’s plot the Ekofisk production data using hvplot:"
   ]
  },
  {
   "cell_type": "code",
   "execution_count": null,
   "id": "01e00e6a",
   "metadata": {},
   "outputs": [],
   "source": [
    "# line plot with hvplot\n",
    "\n",
    "# names of columns to plot\n",
    "columns = df_field.columns.to_list()\n",
    "columns.pop(0) # remove the first element\n",
    "\n",
    "df_field.hvplot.line(x=\"Date\", y=columns, \n",
    "                 title=f\"Production data for {field}\", \n",
    "                 width=800, height=400).opts(ylim=(0, max_value))"
   ]
  },
  {
   "cell_type": "markdown",
   "id": "0f094825",
   "metadata": {},
   "source": [
    "Notice how the data values are displayed when you hover the cursor over the curves. You can also toggle the curves on and off by clicking the legend entries.\n",
    "\n",
    "Creating an area plot is just as straightforward:"
   ]
  },
  {
   "cell_type": "code",
   "execution_count": null,
   "id": "3c5dcbec",
   "metadata": {},
   "outputs": [],
   "source": [
    "# area plot\n",
    "is_stacked = True # stacked area or not\n",
    "\n",
    "if is_stacked:\n",
    "    y_max = max_value * 2\n",
    "    alpha = 1.0\n",
    "else:\n",
    "    y_max = max_value\n",
    "    alpha = 0.4 \n",
    "\n",
    "df_field.hvplot.area(x=\"Date\", y=columns, \n",
    "                 stacked=is_stacked, alpha=alpha,\n",
    "                 title=f\"Production data for {field}\", \n",
    "                 width=800, height=400).opts(ylim=(0, y_max))"
   ]
  },
  {
   "cell_type": "markdown",
   "id": "e3aef3bd",
   "metadata": {},
   "source": [
    "This code generates an on-stacked area plot. Setting `is_stacked` to `True` produces a stacked area plot instead."
   ]
  },
  {
   "cell_type": "markdown",
   "id": "8eeddbea",
   "metadata": {},
   "source": [
    "## Exercise 1\n",
    "\n",
    "Modify the `plot_logs()` function in the [utilities](plot_utilities/utilities.py) module to:\n",
    "\n",
    "- Allow the function to accept a list of two log names (e.g. [\"PEF\", \"CALI\"]) to be plotted in the first two subplots. This makes possible to visualize any logs of interest in these subplots.\n",
    "\n",
    "- Accept a list of x-axis limits for each log."
   ]
  },
  {
   "cell_type": "markdown",
   "id": "ec476626",
   "metadata": {},
   "source": [
    "## Exercise 2\n",
    "\n",
    "Modify the `update_plot()` function in notebook [chapter6_3.ipynb](chapter6_3.ipynb) to include four subplots. The fourth subplot should display the trace at the selected inline and xline."
   ]
  },
  {
   "cell_type": "markdown",
   "id": "d414460c",
   "metadata": {},
   "source": [
    "## Exercise 3\n",
    "\n",
    "The file [xeek_train_subset.csv](../data/xeek_train_subset.csv) contains the east coordinates (`X_LOC`) and north coordinates (`Y_LOC`) of the 12 wells included in the file. Plot the wells on a map, showing both their locations and names."
   ]
  },
  {
   "cell_type": "code",
   "execution_count": null,
   "id": "9656939a",
   "metadata": {},
   "outputs": [],
   "source": [
    "# Do Exercise 3 here"
   ]
  },
  {
   "cell_type": "markdown",
   "id": "8a4af92a",
   "metadata": {},
   "source": [
    "## Exercise 4\n",
    "\n",
    "Seismic sections often exaggerate the vertical scale relative to the horizontal scale. This exaggeration is quantified by the vertical exaggeration factor, $V$. This factor affects bedding dip ($\\delta$) and thickness ($t$) as follows:\n",
    "\n",
    "$$\\tan\\delta'=V\\tan\\delta$$\n",
    "\n",
    "$$\\frac{t'}{t}=\\frac{\\sin\\delta'}{\\sin\\delta}$$\n",
    "\n",
    "where $\\delta'$ and $t'$ are the exaggerated bedding dip and thickness, respectively.\n",
    "\n",
    "1. Plot unexaggerated dip ($\\delta$, in degrees) versus exaggerated dip ($\\delta'$, in degrees) for $V$ = 0.5, 1, 2, 3, 4, 6 and 10.\n",
    "\n",
    "2. Plot unexaggerated dip ($\\delta$, in degrees) versus normalised exaggerated thickness ($t'/t$) for $V$ = 0.5, 1, 2, 3, 4, 6 and 10."
   ]
  },
  {
   "cell_type": "code",
   "execution_count": null,
   "id": "4bf53e4e",
   "metadata": {},
   "outputs": [],
   "source": [
    "# Do Exercise 4 here"
   ]
  }
 ],
 "metadata": {
  "kernelspec": {
   "display_name": "pfs",
   "language": "python",
   "name": "python3"
  },
  "language_info": {
   "codemirror_mode": {
    "name": "ipython",
    "version": 3
   },
   "file_extension": ".py",
   "mimetype": "text/x-python",
   "name": "python",
   "nbconvert_exporter": "python",
   "pygments_lexer": "ipython3",
   "version": "3.12.9"
  }
 },
 "nbformat": 4,
 "nbformat_minor": 5
}
