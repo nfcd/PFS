{
 "cells": [
  {
   "cell_type": "markdown",
   "id": "d839e562",
   "metadata": {},
   "source": [
    "## Chapter 8: Advancing your skills\n",
    "\n",
    "Congratulations on completing this course! You now have a solid foundation in Python—from basic data types and control flow to working with functions, classes, and modules. You’ve also explored how to visualize and analyze data using univariate and multivariate statistics. These are the essential tools that will support your future work in data-heavy, problem-driven environments like subsurface geosciences and engineering.\n",
    "\n",
    "At this stage, you’re ready to apply these skills to real-world projects. Whether that means using existing libraries or building your own tools, the key idea is this: Python is a means to an end. Your goal is not to write perfect code but to deliver insights, results, and solutions.\n",
    "\n",
    "That said, how you write code still matters—especially if it needs to be used again, shared with a colleague, or maintained months down the line. While syntax is foundational, good structure is what makes code robust and reusable. Organizing your programs into functions, grouping related functionality into modules and packages, writing clear documentation, and testing your code will help others—and your future self—understand, trust, and build upon your work.\n",
    "\n",
    "Some practical advice as you continue:\n",
    "\n",
    "- Start simple, then iterate. Don’t wait for the perfect design before writing code. Build something that works, then refactor it to make it clearer and more efficient. Tools like Copilot or ChatGPT can help you get started faster, suggest solutions, or explain unfamiliar code—but always review and test the suggestions critically.\n",
    "\n",
    "- Write tests for your code. Even basic unit tests can help catch bugs early and make sure future changes don’t break existing functionality. Python’s [unittest](https://docs.python.org/3/library/unittest.html) or [pytest](https://docs.pytest.org/en/stable/) libraries are great places to start.\n",
    "\n",
    "- Lean on the community. Stack Overflow, GitHub, and open-source libraries are full of examples, explanations, and solutions. These are some of my favorites: [Awesome open geoscience](https://github.com/softwareunderground/awesome-open-geoscience), [The Python Graph Gallery](https://github.com/holtzy/The-Python-Graph-Gallery/tree/master) (with hundreds of charts made with Python), [Petrophysics Python Series](https://github.com/andymcdgeo/Petrophysics-Python-Series), and [xlines](https://github.com/agilescientific/xlines).\n",
    "\n",
    "- Keep learning. Explore more specialized libraries for subsurface studies, such as [lasio](https://github.com/kinverarity1/lasio), [welly](https://github.com/agilescientific/welly), [segyio](https://github.com/equinor/segyio), [xarray](https://github.com/pydata/xarray), and [geopandas](https://github.com/geopandas/geopandas). Or dive into machine learning with [scikit-learn](https://scikit-learn.org/stable/).\n",
    "\n",
    "- Remember your role. You’re not training to become a software engineer. You’re a geoscientist or engineer using programming to solve complex, domain-specific problems. Delivering results matters most—but when done with well-structured, reusable, and tested code, your work will go further, last longer, and be more impactful. [This paper](https://journals.plos.org/ploscompbiol/article?id=10.1371/journal.pcbi.1008549) is a great resource about that."
   ]
  }
 ],
 "metadata": {
  "kernelspec": {
   "display_name": "pfs",
   "language": "python",
   "name": "python3"
  },
  "language_info": {
   "name": "python",
   "version": "3.12.9"
  }
 },
 "nbformat": 4,
 "nbformat_minor": 5
}
