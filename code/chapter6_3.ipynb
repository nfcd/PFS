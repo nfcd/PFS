{
 "cells": [
  {
   "cell_type": "markdown",
   "id": "752b13bb",
   "metadata": {},
   "source": [
    "## Chapter 6: Seismic data\n",
    "\n",
    "Plotting seismic data in Python is a straightforward process. Once loaded, the data typically takes the form of a NumPy array containing amplitude values. In this example, we’ll work with a subset of the [F3 seismic dataset](https://terranubis.com/datainfo/F3-Demo-2020)—a 3D seismic\n",
    "cube acquired offshore in the Netherlands.\n",
    "\n",
    "The `segy` file containing the seismic data is relatively large (370 MB), so it has been hosted on a remote server. To download it, we can use Python’s `urllib` library. The process is straightforward: define the URL of the file and the local filename, then pass these to the `urlretrieve()` function to download and save the file in the desired directory."
   ]
  },
  {
   "cell_type": "code",
   "execution_count": null,
   "id": "23940176",
   "metadata": {},
   "outputs": [],
   "source": [
    "# import libraries required for the notebook\n",
    "import os # import os to work with directories\n",
    "from urllib import request # for downloading files\n",
    "import numpy as np # import numpy as np\n",
    "import matplotlib.pyplot as plt # import matplotlib.pyplot as plt\n",
    "from ipywidgets import interact # import ipywidgets interact\n",
    "import plotly.graph_objects as go # import plotly.graph_objects as go\n",
    "from plotly.subplots import make_subplots # from plotly.subplots import make_subplots\n",
    "import segyio # import segyio for reading SEG-Y files\n",
    "import plot_utilities as pu # import our plot utilities package"
   ]
  },
  {
   "cell_type": "code",
   "execution_count": null,
   "id": "a8d8a561",
   "metadata": {},
   "outputs": [],
   "source": [
    "# retrieve the data file from a remote server\n",
    "\n",
    "# Define the remote file to retrieve\n",
    "remote_url = \"http://www.ux.uis.no/~nestor/Public/f3-dsmf.sgy\"\n",
    "# Define the local filename to save data\n",
    "local_file = os.path.join(\"..\", \"data\", \"f3-dsmf.sgy\")\n",
    "# Download remote and save locally\n",
    "request.urlretrieve(remote_url, local_file)"
   ]
  },
  {
   "cell_type": "markdown",
   "id": "55eb2a08",
   "metadata": {},
   "source": [
    "To read the `segy` data, we’ll use the [Segyio](https://github.com/equinor/segyio) library, a Python package designed for efficient handling of SEG-Yfiles. We can open the file using the Segyio `open()` method. Once opened, we can access the inline, crossline, and two-way\n",
    "travel time (TWT) axes using the `ilines`, `xlines`, and `samples` attributes of the file object `f`, respectively. The range of each axis can be calculated by subtracting the minimum value from the maximum, and the number of elements in each can be obtained from the shape of the corresponding array."
   ]
  },
  {
   "cell_type": "code",
   "execution_count": null,
   "id": "0bb1a8ce",
   "metadata": {},
   "outputs": [],
   "source": [
    "# print inline, xline and twt ranges\n",
    "\n",
    "filename = os.path.join(\"..\", \"data\", \"f3-dsmf.sgy\") # segy file\n",
    "\n",
    "# open segy file and print inline, xline and twt ranges\n",
    "with segyio.open(filename,\"r\") as f:\n",
    "    s = [f.ilines, f.xlines, f.samples]\n",
    "    s_t = [\"IL\", \"XL\", \"TWT\"]\n",
    "    for i in range(len(s)):\n",
    "        rg = np.array([np.amin(s[i]), np.amax(s[i])])\n",
    "        count = s[i].shape[0]\n",
    "        print(f\"{s_t[i]} range: {rg}, count: {count}\")"
   ]
  },
  {
   "cell_type": "markdown",
   "id": "e61d3101",
   "metadata": {},
   "source": [
    "The seismic data spans inlines from 200 to 600, xlines from 500 to 1100, and TWT from 200 to 1500 ms. We can also determine the sampling intervals—that is, the step size between adjacent inlines, xlines, and time samples—to better understand the resolution of the dataset."
   ]
  },
  {
   "cell_type": "code",
   "execution_count": null,
   "id": "cac6094d",
   "metadata": {},
   "outputs": [],
   "source": [
    "# inline step\n",
    "il_st = (np.amax(f.ilines) \n",
    "         - np.amin(f.ilines)) / (f.ilines.shape[0] - 1)\n",
    "# xline step \n",
    "xl_st = (np.amax(f.xlines) \n",
    "         - np.amin(f.xlines)) / (f.xlines.shape[0] - 1)\n",
    "# twt step \n",
    "twt_st = (np.amax(f.samples) \n",
    "          - np.amin(f.samples)) / (f.samples.shape[0] - 1)\n",
    "# print steps\n",
    "print(f\"IL/XL/TWT steps: {il_st}, {xl_st}, {twt_st}\") "
   ]
  },
  {
   "cell_type": "markdown",
   "id": "8b06dfb7",
   "metadata": {},
   "source": [
    "In this dataset, the inline and xline increments are 1, while the TWT increment is 4 ms. To read the seismic cube, we can use the Segyio `tools.cube()` method, passing the file name as input. After loading the data, we print the shape of the resulting NumPy array to confirm its dimensions along the inline, xline, and TWT axes."
   ]
  },
  {
   "cell_type": "code",
   "execution_count": null,
   "id": "b2ca0b17",
   "metadata": {},
   "outputs": [],
   "source": [
    "# read seismic data\n",
    "data = segyio.tools.cube(filename)\n",
    "\n",
    "# maximum amplitude value for plotting\n",
    "vmax = np.percentile(np.abs(data), 99) \n",
    "\n",
    "# cube shape\n",
    "shape = data.shape\n",
    "print(f\"{shape[0]} IL, {shape[1]} XL and {shape[2]} TWT samples\") "
   ]
  },
  {
   "cell_type": "markdown",
   "id": "9c3ac4ef",
   "metadata": {},
   "source": [
    "In the code above, `vmax` is set to the 99th percentile of the absolute amplitude values. This value will be used later to scale the color range when plotting the data. Since we’re working with a subset of the original 3D cube, the final step before visualization is to assign the correct inline, xline, and TWT values to the axis ticks. This is done by creating arrays of tick positions and corresponding labels for each axis."
   ]
  },
  {
   "cell_type": "code",
   "execution_count": null,
   "id": "3508c36b",
   "metadata": {},
   "outputs": [],
   "source": [
    "il_tl = 100 # step between tick labels for inlines\n",
    "xl_tl = 100 # step between tick labels for xlines\n",
    "twt_tl = 200 # step between tick labels for twt\n",
    "\n",
    "# inlines ticks positions and labels\n",
    "il_pos = np.arange(0, shape[0], il_tl/il_st) \n",
    "il_lab = il_pos * il_st + f.ilines[0] \n",
    "il_lab = il_lab.astype(int) \n",
    "print(f\"il ticks = {il_pos}\\n and labels = {il_lab}\")\n",
    "\n",
    "# xlines ticks positions and labels\n",
    "xl_pos = np.arange(0, shape[1], xl_tl/xl_st) \n",
    "xl_lab = xl_pos * xl_st + f.xlines[0] \n",
    "xl_lab = xl_lab.astype(int) \n",
    "print(f\"xl ticks = {xl_pos}\\n and labels = {xl_lab}\")\n",
    "\n",
    "# TWT ticks positions and labels\n",
    "twt_pos = np.arange(0, shape[2], twt_tl/twt_st) \n",
    "twt_lab = twt_pos * twt_st + f.samples[0] \n",
    "twt_lab = twt_lab.astype(int) \n",
    "print(f\"twt ticks = {twt_pos}\\n and labels = {twt_lab}\")"
   ]
  },
  {
   "cell_type": "markdown",
   "id": "5781c4de",
   "metadata": {},
   "source": [
    "We can now plot the data. To facilitate this process, I have made two functions in the [utilities](plot_utilities/utilities.py) module of our plot_utilities package:\n",
    "\n",
    "- Function `plot_trace` plots a trace.\n",
    "\n",
    "- Function `plot_slice` plots a slice, which can be either an inline, xline, or time slice. In this function, we use the Matplotlib `imshow()` method to visualize the seismic data as a pseudocolor image.\n",
    "\n",
    "Let’s start by plotting one trace of the seismic data at inline 400 and xline 800:"
   ]
  },
  {
   "cell_type": "code",
   "execution_count": null,
   "id": "470b20d9",
   "metadata": {},
   "outputs": [],
   "source": [
    "# plot trace\n",
    "\n",
    "il, xl = 400, 800 # inline and xline\n",
    "\n",
    "il_id = int((il - f.ilines[0]) / il_st) # inline index\n",
    "\n",
    "xl_id = int((xl - f.xlines[0]) / xl_st) # xline index\n",
    "\n",
    "trace = data[il_id, xl_id, :] # get trace data\n",
    "\n",
    "time_id = np.arange(shape[2]) # time index\n",
    "\n",
    "# create figure\n",
    "fig, ax = plt.subplots(figsize=(3, 7)) # 1 subplot\n",
    "\n",
    "# plot trace\n",
    "pu.plot_trace(trace, time_id, vmax, twt_pos, twt_lab, ax)"
   ]
  },
  {
   "cell_type": "markdown",
   "id": "2791931f",
   "metadata": {},
   "source": [
    "Now, let´s plot a slice, for example inline 350:"
   ]
  },
  {
   "cell_type": "code",
   "execution_count": null,
   "id": "c8c2a817",
   "metadata": {},
   "outputs": [],
   "source": [
    "# plot slice\n",
    "\n",
    "# slice type: inline, xline or time\n",
    "sl_type = \"inline\" \n",
    "\n",
    "# slice value: allowed values depend on the slice type\n",
    "# for inline the value should be between 200 and 600,\n",
    "# for xline between 500 and 1100,\n",
    "# and for time between 200 and 1500 ms\n",
    "value = 350 \n",
    "\n",
    "# slice and axes ticks positions and labels\n",
    "if sl_type == \"inline\":\n",
    "    index = int((value - f.ilines[0]) / il_st) # inline index\n",
    "    slice = data[index, :, :]\n",
    "    ax_pos = [xl_pos, twt_pos]\n",
    "    ax_lab = [xl_lab, twt_lab]\n",
    "    title = f\"{sl_type} {value}\" \n",
    "elif sl_type == \"xline\":\n",
    "    index = int((value - f.xlines[0]) / xl_st)\n",
    "    slice = data[:, index, :] \n",
    "    ax_pos = [il_pos, twt_pos]\n",
    "    ax_lab = [il_lab, twt_lab]\n",
    "    title = f\"{sl_type} {value}\"\n",
    "elif sl_type == \"time\":\n",
    "    index = int((value - f.samples[0]) / twt_st)\n",
    "    slice = data[:, :, index] \n",
    "    ax_pos = [xl_pos, il_pos]\n",
    "    ax_lab = [xl_lab, il_lab]\n",
    "    title = f\"{sl_type} {value} ms\"\n",
    "\n",
    "# create figure\n",
    "fig, ax = plt.subplots(figsize=(8, 6)) # 1 subplot\n",
    "\n",
    "# plot slice\n",
    "pu.plot_slice(slice, vmax, title, sl_type, \n",
    "              ax_pos, ax_lab, fig, ax, cb=False)\n",
    "\n",
    "plt.show() # show plot"
   ]
  },
  {
   "cell_type": "markdown",
   "id": "02085c15",
   "metadata": {},
   "source": [
    "Note that the code above is quite flexible. You can change the slice type (`sl_type`) and/or the slice value (`value`) to visualize another slice. For example, try visualizing xline 700, and time slice 1000.\n",
    "\n",
    "Next, we’ll use [ipywidgets](https://github.com/jupyter-widgets/ipywidgets) to interactively explore the data, allowing us to change the inline, xline and time slices dynamically. ipywidgets, also referred to as Jupyter widgets or simply widgets, are interactive HTML elements designed for use in Jupyter notebooks. By defining a plotting function and associating it with a widget, we can dynamically adjust the slices using slider buttons:"
   ]
  },
  {
   "cell_type": "code",
   "execution_count": null,
   "id": "52044682",
   "metadata": {},
   "outputs": [],
   "source": [
    "def update_plot(il, xl, time):\n",
    "    \"\"\"\n",
    "    updates the plot with the selcted inline, xline\n",
    "    and time values\n",
    "    \"\"\"\n",
    "    # indexes for inline, xline and time\n",
    "    il_id = int ((il - f.ilines[0]) / il_st) \n",
    "    xl_id = int ((xl - f.xlines[0]) / xl_st)\n",
    "    time_id = int ((time - f.samples[0]) / twt_st) \n",
    "\n",
    "    # create figure\n",
    "    fig, ax = plt.subplots(2,2,figsize=(14,12))\n",
    "\n",
    "    # lists to facilitate plotting\n",
    "    sl_types = [\"inline\", \"xline\", \"time\"]\n",
    "    slices = [data[il_id, :, :], data[:, xl_id, :], \n",
    "              data[:, :, time_id]]\n",
    "    ax_pos = [[xl_pos, twt_pos], [il_pos, twt_pos], \n",
    "              [xl_pos, il_pos]]\n",
    "    ax_lab = [[xl_lab, twt_lab], [il_lab, twt_lab], \n",
    "              [xl_lab, il_lab]]\n",
    "    titles = [f\"Inline {il:.0f}\", f\"Xline {xl:.0f}\", \n",
    "              f\"Time {time:.0f} ms\"]\n",
    "    lines = [[xl_id, time_id], [il_id, time_id], \n",
    "             [xl_id, il_id]]\n",
    "\n",
    "    # plot slices\n",
    "    for i, sl_type in enumerate(sl_types):\n",
    "        # plot slice\n",
    "        pu.plot_slice(slices[i], vmax, titles[i], sl_type, \n",
    "                      ax_pos[i], ax_lab[i], fig, \n",
    "                      ax[i//2, i%2], cb=False)       \n",
    "        # plot lines \n",
    "        ax[i//2, i%2].axvline(lines[i][0], color='k', \n",
    "                              linestyle='--', linewidth=2)\n",
    "        ax[i//2, i%2].axhline(lines[i][1], color='k', \n",
    "                              linestyle='--', linewidth=2)\n",
    "\n",
    "    # four subplot is not used\n",
    "    ax[1, 1].axis('off')\n",
    "\n",
    "    # present figure\n",
    "    fig.tight_layout()\n",
    "    plt.show()\n",
    "\n",
    "# interact with the function\n",
    "interact(update_plot, \n",
    "         il=(np.amin(f.ilines), np.amax(f.ilines), il_st), \n",
    "         xl=(np.amin(f.xlines), np.amax(f.xlines), xl_st), \n",
    "         time=(np.amin(f.samples), np.amax(f.samples), twt_st));"
   ]
  },
  {
   "cell_type": "markdown",
   "id": "14daf541",
   "metadata": {},
   "source": [
    "The first slider allows us to select the inline, the second slider the xline, and the third slider the time slice. The black dashed lines show the location of the slices.\n",
    "\n",
    "## Interactive plots\n",
    "\n",
    "ipywidgets allow us to dynamically adjust the input parameters of a plot, but the plot itself remains static — moving the cursor over it doesn’t reveal any information, and we cannot zoom or pan. To add this kind of interactivity, we can use the [Plotly](https://plotly.com/python/) library. Plotly offers extensive capabilities for creating interactive 2D and 3D plots, as well as maps. In this section, we will provide a brief introduction to its features.\n",
    "\n",
    "Let’s begin by plotting a trace from our seismic cube. For this, we use the Plotly `graph_objects` (`go`) module:"
   ]
  },
  {
   "cell_type": "code",
   "execution_count": null,
   "id": "4744f4e3",
   "metadata": {},
   "outputs": [],
   "source": [
    "fig = go.Figure() # create figure\n",
    "\n",
    "# convert time index to time values\n",
    "time = time_id * twt_st + f.samples[0] \n",
    "\n",
    "# add trace to the figure\n",
    "fig.add_trace(go.Scatter(x=trace, y=time, \n",
    "                         mode=\"lines\", \n",
    "                         line=dict(color=\"black\")))\n",
    "\n",
    "# set x and y axis\n",
    "fig.update_xaxes(range=[-vmax, vmax], \n",
    "                 title_text=\"Amplitude\")\n",
    "fig.update_yaxes(range=[time[-1], time[0]], \n",
    "                 title_text=\"Time [ms]\")\n",
    "\n",
    "# set figure size\n",
    "fig.update_layout(width=300, height=600)\n",
    "\n",
    "fig.show() # show the figure"
   ]
  },
  {
   "cell_type": "markdown",
   "id": "76800848",
   "metadata": {},
   "source": [
    "Notice that as you hover the cursor over the plot, the amplitude and time values are displayed.\n",
    "\n",
    "Now, let’s plot the trace alongside the time slice. To create two subplots— one for the trace and another for the time slice — we need to use the `make_subplots()` method from the Plotly subplots module:"
   ]
  },
  {
   "cell_type": "code",
   "execution_count": null,
   "id": "81370594",
   "metadata": {},
   "outputs": [],
   "source": [
    "# Extract a time slice\n",
    "value = 1200\n",
    "index = int((value - f.samples[0]) / twt_st) # time index\n",
    "slice = data[:, :, index]\n",
    "\n",
    "# Create subplots\n",
    "fig = make_subplots(rows=1, cols=2, \n",
    "                    subplot_titles=(None, f\"Time = {value} ms\"))\n",
    "\n",
    "# elements to draw\n",
    "el_defs = [\n",
    "    # trace on 1st subplot\n",
    "    (go.Scatter(x=trace, y=time, mode=\"lines\", name=\"Trace\", \n",
    "                line_color=\"black\"), 1, 1),\n",
    "    # slice on 2nd subplot\n",
    "    (go.Heatmap(z=slice, colorscale=\"RdBu\", name=\"Amplitude\", \n",
    "                showscale=False, zmin=-vmax, zmax=vmax), 1, 2),\n",
    "    # trace location on 2nd subplot\n",
    "    (go.Scatter(x=[xl_id], y=[il_id], mode=\"markers\", name=\"Trace\", \n",
    "                marker=dict(size=10, color=\"black\")), 1, 2)\n",
    "]\n",
    "# add to the figure\n",
    "for el, row, col in el_defs:\n",
    "    fig.add_trace(el, row=row, col=col)\n",
    "\n",
    "# update axes\n",
    "fig.update_xaxes(title_text=\"Amplitude\", \n",
    "                 row=1, col=1, range=[-vmax, vmax])\n",
    "fig.update_yaxes(title_text=\"Time [ms]\", \n",
    "                 row=1, col=1, autorange=\"reversed\")\n",
    "xl_text = [str(v) for v in xl_lab]\n",
    "fig.update_xaxes(title_text=\"Xline\", tickvals=xl_pos, \n",
    "                 ticktext=xl_text, row=1, col=2)\n",
    "il_text = [str(v) for v in il_lab]\n",
    "fig.update_yaxes(title_text=\"Inline\", tickvals = il_pos,\n",
    "                 ticktext=il_text, row=1, col=2)\n",
    "\n",
    "# figure size and legend off\n",
    "fig.update_layout(width=900, height=600, showlegend=False)\n",
    "\n",
    "fig.show()"
   ]
  },
  {
   "cell_type": "markdown",
   "id": "44b3b637",
   "metadata": {},
   "source": [
    "We have only begun to explore what Plotly offers. With a bit of practice, you’ll find it a powerful tool for creating clear and interactive visualizations. I encourage you to experiment further and discover how it can support your own projects."
   ]
  }
 ],
 "metadata": {
  "kernelspec": {
   "display_name": "pfs",
   "language": "python",
   "name": "python3"
  },
  "language_info": {
   "codemirror_mode": {
    "name": "ipython",
    "version": 3
   },
   "file_extension": ".py",
   "mimetype": "text/x-python",
   "name": "python",
   "nbconvert_exporter": "python",
   "pygments_lexer": "ipython3",
   "version": "3.12.9"
  }
 },
 "nbformat": 4,
 "nbformat_minor": 5
}
