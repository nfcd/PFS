{
 "cells": [
  {
   "cell_type": "markdown",
   "id": "a4d3a92a",
   "metadata": {},
   "source": [
    "## Chapter 2: Data types\n",
    "\n",
    "Coding is mostly about working with information. In Python, we use *variables* to store and pass that information. A variable is just a name that holds data like a number, letter, or text. Python automatically sets aside memory based on the value you assign. You don’t need to declare the type—just use the `=` sign, with the variable on the left and the value on the right. Python will figure out the data type for you. For example:"
   ]
  },
  {
   "cell_type": "code",
   "execution_count": null,
   "id": "f75467bf",
   "metadata": {},
   "outputs": [],
   "source": [
    "# Creating two variables\n",
    "age = 65\n",
    "top = \"Cretaceous\""
   ]
  },
  {
   "cell_type": "markdown",
   "id": "31163e80",
   "metadata": {},
   "source": [
    "Here, `65` and `\"Cretaceous\"` are assigned to the variables age and top respectively. The first line starting with `#` is a comment. Comments are ignored by Python but are useful for documenting your code. Including comments is always a good practice, as it helps others (and your future self) understand what your code is doing.\n",
    "\n",
    "## Numbers:\n",
    "\n",
    "Python supports integers, floats, and complex numbers. Integers and floats differ by the presence or absence of decimals. Complex numbers have a real part and an imaginary part:"
   ]
  },
  {
   "cell_type": "code",
   "execution_count": null,
   "id": "2c9d6757",
   "metadata": {},
   "outputs": [],
   "source": [
    "my_integer = 32 # integer\n",
    "my_float = 23.00 # float\n",
    "my_complex = 5 + 3j # complex: real part = 5, imaginary part = 3"
   ]
  },
  {
   "cell_type": "markdown",
   "id": "63b08184",
   "metadata": {},
   "source": [
    "Python has several [built-in functions](https://docs.python.org/3/library/functions.html). We can use the function `type()` to find out the type of a variable, and the function `print()` to output this information:"
   ]
  },
  {
   "cell_type": "code",
   "execution_count": null,
   "id": "56887160",
   "metadata": {},
   "outputs": [],
   "source": [
    "print (type (my_integer), type (my_float), type (my_complex))"
   ]
  },
  {
   "cell_type": "markdown",
   "id": "5b7955dd",
   "metadata": {},
   "source": [
    "So our numbers are actually *classes*. The concept of class comes from the object oriented philosophy of Python (chapter 5). For the moment, just realize that the numbers above are *class instances* or *objects* that come with built-in *members*. Some of these members are *attributes* of the object. Others are *methods*, which perform actions and must be called using parentheses ().  For example, to output the real and imaginary parts of `my_complex`, we can do the following:"
   ]
  },
  {
   "cell_type": "code",
   "execution_count": null,
   "id": "f301a842",
   "metadata": {},
   "outputs": [],
   "source": [
    "print(my_complex.real, my_complex.imag)"
   ]
  },
  {
   "cell_type": "markdown",
   "id": "e28e6878",
   "metadata": {},
   "source": [
    "Here, we use the attributes `real` and `imaginary` of my_complex to extract\n",
    "its real and imaginary parts.\n",
    "\n",
    "When you write code in VS Code, the editor suggests completions as you type. You can press the `Tab` key to insert the most relevant suggestion. This functionality is powered by `IntelliSense`, which includes code completion, content assist, and code hinting. For example, if you type `my_complex.r`, the program will show a list of members of my_complex starting with `r`, with the best match—`real`—at the top. You can see quick info for each member by selecting the > icon, which expands the accompanying documentation to the side. IntelliSense is a powerful tool that helps you explore Python functions, variables, and object members—such as attributes and methods—as you write\n",
    "code. For more information, check out [this site](https://code.visualstudio.com/docs/editing/intellisense)."
   ]
  },
  {
   "cell_type": "code",
   "execution_count": null,
   "id": "05e2d9d1",
   "metadata": {},
   "outputs": [],
   "source": [
    "# try Intellisense here"
   ]
  },
  {
   "cell_type": "markdown",
   "id": "579de542",
   "metadata": {},
   "source": [
    "Alternatively, you can use Python's `dir()` function to view all the attributes and methods of an object.\n",
    "\n",
    "## Mathematical operations\n",
    "\n",
    "Python can be used as a simple calculator. For example:"
   ]
  },
  {
   "cell_type": "code",
   "execution_count": null,
   "id": "fabec3ad",
   "metadata": {},
   "outputs": [],
   "source": [
    "a = 27\n",
    "b = 4\n",
    "print(a + b) # addition\n",
    "print(a - b) # subtraction\n",
    "print(a * b) # multiplication\n",
    "print(a / b) # division\n",
    "print(b ** 3) # exponentiation\n",
    "print(a // b) # floor division\n",
    "print(a % b) # modulo division"
   ]
  },
  {
   "cell_type": "markdown",
   "id": "1c668abe",
   "metadata": {},
   "source": [
    "Notice that division `/` returns a float value, even though the two numbers are integers. Floor (or integer) division `//` returns the quotient of the division rounded down to the nearest whole number, while modulo division `%` returns the remainder of the division (for negative numbers this is more complicated, see [this note](https://blog.teclado.com/pythons-modulo-operator-and-floor-division/)).\n",
    "\n",
    "These operations also work with complex numbers. Let’s try the following:\n",
    "\n",
    "$$\\frac{3 i}{4-3 i}=-\\frac{9}{25}+\\frac{12}{25} i \\approx-0.360+0.480 i$$\n",
    "\n",
    "In Python this is easy:"
   ]
  },
  {
   "cell_type": "code",
   "execution_count": null,
   "id": "3a6796ca",
   "metadata": {},
   "outputs": [],
   "source": [
    "z0 = 3j # complex, imaginary part = 3\n",
    "z1 = 4 - 3j # complex, real part = 4, imaginary part = -3\n",
    "z2 = z0/z1 # division of complex numbers\n",
    "print(z2.real, z2.imag) # output the result"
   ]
  },
  {
   "cell_type": "markdown",
   "id": "3e79617a",
   "metadata": {},
   "source": [
    "However, for more advanced operations, we need to import the `math` library:"
   ]
  },
  {
   "cell_type": "code",
   "execution_count": null,
   "id": "5f97de57",
   "metadata": {},
   "outputs": [],
   "source": [
    "import math # import math library\n",
    "\n",
    "angle = 30 # angle in degrees\n",
    "# sine of angle, option 1\n",
    "sine_one = math.sin(30*math.pi/180)\n",
    "# sine of angle, option 2\n",
    "sine_two = math.sin(math.radians(angle))\n",
    "# output sine\n",
    "print(sine_one, sine_two)"
   ]
  },
  {
   "cell_type": "markdown",
   "id": "ee85cb21",
   "metadata": {},
   "source": [
    "The first line of the code imports the `math` library, giving access to its functions using the `math.function_name()` format. Options 1 and 2 both calculate the sine of an angle. Note that the angle must first be converted from degrees to radians, since Python (and most programming languages) use radians by default. Finally, the result isn’t exactly 0.5 due to floating-point precision errors—these small inaccuracies are a normal consequence of how computers represent decimal numbers.\n",
    "\n",
    "The `math` library has a wide range of mathematical functions. You can find the complete list [here](https://docs.python.org/3/library/math.html). Another way to quickly find out the functions in the `math` library is to type `math.`; VS Code will show a list of the functions, and you can find information about any of them by selecting the `>` icon.\n",
    "\n",
    "## Booleans\n",
    "\n",
    "Booleans (or bools) can only have two values, `True` or `False`. Let’s look at\n",
    "some examples:"
   ]
  },
  {
   "cell_type": "code",
   "execution_count": null,
   "id": "bc60ccda",
   "metadata": {},
   "outputs": [],
   "source": [
    "a = 10 # variable a\n",
    "b = 7 # variable b\n",
    "\n",
    "c = (a > b) # bool c\n",
    "d = (a == b) # bool d\n",
    "e = (a < b) # bool e\n",
    "f = (a != b) # bool f\n",
    "\n",
    "print(c, d, e, f) # output bools"
   ]
  },
  {
   "cell_type": "markdown",
   "id": "1af18b63",
   "metadata": {},
   "source": [
    "The operators `>` (greater than), `==` (equal), `<` (lower than), and `!=` (not equal) are called comparison operators. You can find a list of these operators [here](https://www.w3schools.com/python/gloss_python_comparison_operators.asp). \n",
    "\n",
    "Python has a nice feature: When a bool is used in an arithmetic expression, Python translates a `True` to one and `False` to zero. This is useful if we want to assign different numerical values to a variable based upon the value of a bool. For example, suppose we have a compass that cannot accurately measure any angle below 1°. Thus, any measurement less than 1° should be 0. We could do the following:"
   ]
  },
  {
   "cell_type": "code",
   "execution_count": null,
   "id": "317892de",
   "metadata": {},
   "outputs": [],
   "source": [
    "angle = 0.5\n",
    "corrected_angle = (angle >= 1.0) * angle\n",
    "print(corrected_angle)"
   ]
  },
  {
   "cell_type": "markdown",
   "id": "c3f50725",
   "metadata": {},
   "source": [
    "Let’s wrap up this section with a mind-blowing experiment. Can you predict what the output of the following code will be? Go ahead and run it to see the result—then try to figure out why it behaves that way. Hint: Print the values of a and b to help you understand what’s going on."
   ]
  },
  {
   "cell_type": "code",
   "execution_count": null,
   "id": "a016b516",
   "metadata": {},
   "outputs": [],
   "source": [
    "a = 0.1 + 0.2\n",
    "b = 0.3\n",
    "print(a == b)"
   ]
  },
  {
   "cell_type": "markdown",
   "id": "d5a5a86f",
   "metadata": {},
   "source": [
    "## Sequences\n",
    "\n",
    "A sequence is an ordered collection of items. Examples of sequences are strings, lists, and tuples. Strings are sequences of characters, lists are ordered collections of data (which can be of different type), and tuples are similar to lists, but they cannot be modified after their creation. The elements of a sequence can be accessed using indexes within brackets (`[]`):\n",
    "\n",
    "- The first index of a sequence is always 0.\n",
    "\n",
    "- Using negative integers (e.g., -1) as indices accesses elements starting from the end of the sequence, where -1 refers to the last element, -2 to the second last, and so on.\n",
    "\n",
    "- Two integers separated by a colon (e.g. 3:7) define an index range, sampling the sequence from the lower to the upper index, but \\textbf{not including} the upper index (i.e., indexes 3, 4, 5 and 6).\n",
    "\n",
    "- Omitting the lower index in a slice (e.g., :5) means slicing from the start of the sequence up to, but not including, the upper index.\n",
    "\n",
    "- Omitting the upper index in a slice (e.g., 4:) means slicing from the lower index through to the end of the sequence.\n",
    "\n",
    "- Negative indices can also be used in slices (e.g., -2:), which selects elements starting from the second-to-last element through to the end of the sequence.\n",
    "\n",
    "- A slice can include a third value, called the step (e.g., 1:10:2), which defines the stride between elements selected (in this example, every second element).\n",
    "\n",
    "- Negative steps in a slice (e.g., ::-1) reverse the sequence by stepping backward through it.\n",
    "\n",
    "Let’s look now at each of the sequence types, starting with strings.\n",
    "\n",
    "## Strings\n",
    "\n",
    "Strings are sequences of characters and are defined within quotes—either single quotes ('hello'), or double quotes (\"hello\"). Personally, I prefer using double quotes since a string may contain an apostrophe ('). Strings can be concatenated with the `+` operator and repeated with the `*` operator. Let’s take a look:"
   ]
  },
  {
   "cell_type": "code",
   "execution_count": null,
   "id": "b24faee1",
   "metadata": {},
   "outputs": [],
   "source": [
    "my_string = \"Stressed \" + \"desserts\" # string concatenation\n",
    "print(my_string) # output string\n",
    "print(my_string * 2) # repeat string\n",
    "print(my_string[0:6:1]) # print characters: 0 to 6-1 with step 1\n",
    "print(my_string[:6]) # print first 6 characters\n",
    "print(my_string[-8:]) # print last 8 characters\n",
    "print(my_string[::2]) # print every second character\n",
    "print(my_string[::-1]) # print string in reverse order"
   ]
  },
  {
   "cell_type": "markdown",
   "id": "aa1d103e",
   "metadata": {},
   "source": [
    "Notice that the blank space is also a character. Formatted strings (f-strings) can be used to include numerical values with a desired notation. Here is one example:"
   ]
  },
  {
   "cell_type": "code",
   "execution_count": null,
   "id": "b7fb8cd8",
   "metadata": {},
   "outputs": [],
   "source": [
    "r  = 6371 # Earth radius in km\n",
    "V  = 4/3 * math.pi * r**3 # Earth volume in km^3\n",
    "\n",
    "# output Earth volume using f-string\n",
    "print(f\"Earth volume is {V:.2f} km^3\") # 2 decimals\n",
    "print(f\"Earth volume is {V:.0f} km^3\") # no decimals\n",
    "print(f\"Earth volume is {V:.4e} km^3\") # scientific, 4 decimals"
   ]
  },
  {
   "cell_type": "markdown",
   "id": "faead3f5",
   "metadata": {},
   "source": [
    "Note that the string is prefixed with an `f`, and the value goes inside curly braces `{}`, with a format specifier for the desired notation. f-strings were introduced in Python 3.6 and they are the preferred way of formatting strings. You can find more information about them [here](https://www.datacamp.com/tutorial/python-f-string).\n",
    "\n",
    "To finalize, it's important to note that strings in Python are *immutable*. This means you cannot change their content after creation. For example, the following code will raise an error:"
   ]
  },
  {
   "cell_type": "code",
   "execution_count": null,
   "id": "4989a064",
   "metadata": {},
   "outputs": [],
   "source": [
    "s = \"Fake\"\n",
    "s[0] = \"R\" # error: string does not support item assignment"
   ]
  },
  {
   "cell_type": "markdown",
   "id": "fcd31a4b",
   "metadata": {},
   "source": [
    "Instead you should do something like:"
   ]
  },
  {
   "cell_type": "code",
   "execution_count": null,
   "id": "4fc7917e",
   "metadata": {},
   "outputs": [],
   "source": [
    "s = \"Fake\"\n",
    "s = \"R\" + s[1:] # replace F with R\n",
    "print(s) # output string"
   ]
  },
  {
   "cell_type": "markdown",
   "id": "bb0e63a6",
   "metadata": {},
   "source": [
    "or:"
   ]
  },
  {
   "cell_type": "code",
   "execution_count": null,
   "id": "ebed7e06",
   "metadata": {},
   "outputs": [],
   "source": [
    "s = \"Fake\"\n",
    "s = s.replace(\"F\", \"R\") # replace F with R\n",
    "print(s) # output string"
   ]
  },
  {
   "cell_type": "markdown",
   "id": "b597759f",
   "metadata": {},
   "source": [
    "## Lists\n",
    "\n",
    "Lists are perhaps the most flexible type of sequence in Python, as they can contain different data types (e.g., numbers and strings) and can grow or shrink in size to accommodate their elements. Whenever you need to collect multiple values in Python, lists are a great option. Lists are defined inside squared brackets `[]`. The symbol `*` can be used to create copies of a list, and the symbol `+` can be used to concatenate lists. The function `len()` returns the number of elements in a list (and any collection). For example:"
   ]
  },
  {
   "cell_type": "code",
   "execution_count": null,
   "id": "9dbd2e7a",
   "metadata": {},
   "outputs": [],
   "source": [
    "# empty list\n",
    "empty = [] \n",
    "print(empty)\n",
    "\n",
    "# list made by copying and concatenating elements\n",
    "zero = [0, \"zero\"] # list with integer and string\n",
    "one = [1, \"one\"] # list with integer and string\n",
    "my_list = zero * 2 + one * 2 # list with 2 zeros and 2 ones\n",
    "print(my_list) \n",
    "\n",
    "# number of elements in list\n",
    "print(len(my_list)) "
   ]
  },
  {
   "cell_type": "markdown",
   "id": "76eaac8b",
   "metadata": {},
   "source": [
    "Lists have methods to add, insert or delete elements:"
   ]
  },
  {
   "cell_type": "code",
   "execution_count": null,
   "id": "528cefb2",
   "metadata": {},
   "outputs": [],
   "source": [
    "tops = [252 ,\"TR\", 200, \"J\", 145, \"K\", 66, \"Pa\"] # geologic tops\n",
    "print(tops) \n",
    "\n",
    "tops.insert(0, \"P\") # insert Permian at index 0\n",
    "tops.append(23) # append 23\n",
    "tops.extend([\"N\", 2.6, \"Q\", 0.0, \"A\"]) # add another list \n",
    "print(tops)\n",
    "\n",
    "tops.pop(-1) # remove Anthropocene\n",
    "print(tops)\n",
    "\n",
    "tops.reverse() # reverse the list\n",
    "print(tops)"
   ]
  },
  {
   "cell_type": "markdown",
   "id": "a57911a8",
   "metadata": {},
   "source": [
    "And of course, you can access the elements of the list by their index:"
   ]
  },
  {
   "cell_type": "code",
   "execution_count": null,
   "id": "cbfc0f68",
   "metadata": {},
   "outputs": [],
   "source": [
    "print(f\"The oldest top is {tops[-1]} and it is {tops[-2]} My\")"
   ]
  },
  {
   "cell_type": "markdown",
   "id": "8561e8cb",
   "metadata": {},
   "source": [
    "## Tuples\n",
    "\n",
    "A tuple is also an ordered collection of elements which can be of different type.However, a tuple is immutable. Once you create a tuple, it cannot be modified.\n",
    "Tuples are defined inside parentheses `()`:"
   ]
  },
  {
   "cell_type": "code",
   "execution_count": null,
   "id": "2e46a287",
   "metadata": {},
   "outputs": [],
   "source": [
    "f_tops = (252 ,\"TR\", 201, \"J\", 145, \"K\", 66, \"Pa\") # geologic tops\n",
    "print(f_tops)"
   ]
  },
  {
   "cell_type": "markdown",
   "id": "7da0722c",
   "metadata": {},
   "source": [
    "The following code will not work:"
   ]
  },
  {
   "cell_type": "code",
   "execution_count": null,
   "id": "1ea89066",
   "metadata": {},
   "outputs": [],
   "source": [
    "f_tops[2] = 200 # error: tuple does not support item assignment"
   ]
  },
  {
   "cell_type": "markdown",
   "id": "f95a8fe9",
   "metadata": {},
   "source": [
    "Tuples are useful for storing data that should remain constant throughout the execution of a program—for example, the months of the year.\n",
    "\n",
    "## Dictionaries\n",
    "\n",
    "Dictionaries are collections of key-value pairs. They are defined inside curly braces `{}`, with each key-value pair separated by a comma, and each key separated from its value by a colon. The order of items in a dictionary does not matter. To retrieve a value, you use the corresponding key inside square brackets.\n",
    "\n",
    "Let’s update the code we wrote earlier to calculate the volume of the Earth, and make it more flexible by calculating the volume ratio of any two planets in the solar system. To do this, we’ll use a dictionary, with the keys being the planets’ names, and the values the planets’ radii:"
   ]
  },
  {
   "cell_type": "code",
   "execution_count": null,
   "id": "f0f04aeb",
   "metadata": {},
   "outputs": [],
   "source": [
    "# dictionary with planets in the solar system and their radii\n",
    "planets = {\"Earth\": 6371, \"Mars\": 3390, \"Venus\": 6052, \n",
    "           \"Mercury\": 2439, \"Jupiter\": 69911, \"Saturn\": 58232, \n",
    "           \"Uranus\": 25362, \"Neptune\": 24622}\n",
    "\n",
    "# Set the two planets names here\n",
    "p_1 = \"Earth\"\n",
    "p_2 = \"Mercury\"\n",
    "\n",
    "r_1 = planets[p_1] # radius of planet 1 in km\n",
    "r_2 = planets[p_2] # radius of planet 2 in km\n",
    "\n",
    "\n",
    "v_1 = 4/3 * math.pi * r_1**3 # volume of planet 1 in km^3\n",
    "v_2 = 4/3 * math.pi * r_2**3 # volume of planet 2 in km^3\n",
    "v_ratio = v_1 / v_2 # volume ratio of the two planets\n",
    "\n",
    "# output volume ratio\n",
    "print(f\"{p_1} volume is {v_ratio:.2f} larger than {p_2} volume\") "
   ]
  },
  {
   "cell_type": "markdown",
   "id": "3bed3f31",
   "metadata": {},
   "source": [
    "It is easy to add and remove key-value pairs from a dictionary. The dictionary has also methods to list its keys, values, or items:"
   ]
  },
  {
   "cell_type": "code",
   "execution_count": null,
   "id": "e759b18b",
   "metadata": {},
   "outputs": [],
   "source": [
    "# Define dictionary of mineral hardness\n",
    "mohs = {\"talc\":1, \"gypsum\":2, \"calcite\":3, \"fluorite\":4, \n",
    "        \"apatite\":5, \"orthoclase\":6, \"quartz\":7, \n",
    "        \"topaz\":8, \"corundum\":9, \"diamond\":10}\n",
    "\n",
    "# adding key-value pairs to dictionary\n",
    "mohs[\"olivine\"] = 6.5 \n",
    "mohs[\"salt\"] = 2.5\n",
    "mohs[\"pyrite\"] = 6.25\n",
    "\n",
    "# delete pyrite from dictionary\n",
    "del mohs[\"pyrite\"]\n",
    "\n",
    "print(mohs.keys(), \"\\n\") # print dictionary keys\n",
    "print(mohs.values(), \"\\n\") # print dictionary values\n",
    "print(mohs.items(), \"\\n\") # print dictionary items\n",
    "print(\"Hardness of salt =\", mohs[\"salt\"]) # print hardness of salt"
   ]
  },
  {
   "cell_type": "markdown",
   "id": "226861c6",
   "metadata": {},
   "source": [
    "Dictionaries offer a flexible and efficient way to organize data that maps unique keys to specific values, making them ideal for storing information like petrophysical properties or unit conversion factors. JSON files are basically just Python dictionaries, which shows how important dictionaries are.\n",
    "\n",
    "## Exercise 1:\n",
    "\n",
    "The average radius of the Earth is 6371 km. The oceans cover 70% of the surface of the planet, and the average depth of the oceans is 3700 m. Estimate the surface area of the Earth, the surface area occupied by oceans, and the volume of the oceans (Hint: The surface area of a sphere is $4\\pi r^2$)."
   ]
  },
  {
   "cell_type": "code",
   "execution_count": null,
   "id": "692ecc03",
   "metadata": {},
   "outputs": [],
   "source": [
    "# Do Exercise 1 here"
   ]
  },
  {
   "cell_type": "markdown",
   "id": "85745b96",
   "metadata": {},
   "source": [
    "## Exercise 2:\n",
    "\n",
    "Update the code above to calculate the volume ratio between any two planets in the solar system, so that the user can enter the names of the two planets interactively. Hint: Use the Python input() function."
   ]
  },
  {
   "cell_type": "code",
   "execution_count": null,
   "id": "f9ec5914",
   "metadata": {},
   "outputs": [],
   "source": [
    "# Do exercise 2 here"
   ]
  },
  {
   "cell_type": "markdown",
   "id": "3e900c21",
   "metadata": {},
   "source": [
    "## Exercise 3:\n",
    "\n",
    "The table below shows the conversion of different pressure units to Pascals (Pa):\n",
    "\n",
    "|Unit|Pa|\n",
    "|:---:|---:|\n",
    "|atm|101325|\n",
    "|bar|100000|\n",
    "|MPa|1000000|\n",
    "|mm Hg|133.32|\n",
    "|mm H20|9.81|\n",
    "|psi|6894.76|\n",
    "\n",
    "1. Make a dictionary to represent this table. The keys of the dictionary are the units names, and the values are the units in Pascals.\n",
    "2. The maximum depth of the 14.4 km long Ryfylke tunnel is 292 m below sea level. What is the pressure at this depth in Pa? Hint: Pressure = density_water * gravity * depth. Use water density = 1000 kg/m $^3$, and gravity = 9.8 m/s $^2$.\n",
    "3. What is the pressure at this depth in atm, mm Hg, and psi? Use your dictionary to solve this problem."
   ]
  },
  {
   "cell_type": "code",
   "execution_count": null,
   "id": "32845d20",
   "metadata": {},
   "outputs": [],
   "source": [
    "# Do Exercise 3 here"
   ]
  }
 ],
 "metadata": {
  "kernelspec": {
   "display_name": "pfs",
   "language": "python",
   "name": "python3"
  },
  "language_info": {
   "codemirror_mode": {
    "name": "ipython",
    "version": 3
   },
   "file_extension": ".py",
   "mimetype": "text/x-python",
   "name": "python",
   "nbconvert_exporter": "python",
   "pygments_lexer": "ipython3",
   "version": "3.12.9"
  }
 },
 "nbformat": 4,
 "nbformat_minor": 5
}
