{
 "cells": [
  {
   "cell_type": "markdown",
   "id": "f62da5e1",
   "metadata": {},
   "source": [
    "## Chapter 6: Data visualization\n",
    "\n",
    "As discussed in Chapter 5, Python offers a user-friendly and powerful environment for data visualization. With libraries like Matplotlib, Plotly, and hvplot, creating visualizations becomes intuitive and efficient. These tools make it easy to display complex datasets, such as well logs and seismic data, as well as time series like production data. In this chapter, we’ll explore these visualization techniques in greater depth, demonstrating how Python can bring subsurface data to life.\n",
    "\n",
    "## Introduction\n",
    "\n",
    "We begin this chapter with a brief overview of plotting in Python using the [Matplotlib](https://matplotlib.org) library. This section draws on material from this [excellent resource](https://github.com/jrjohansson/scientific-python-lectures/blob/master/Lecture-4-Matplotlib.ipynb), adapted here to introduce the core concepts. To create plots, you’ll need to import the [matplotlib.pyplot](https://matplotlib.org/3.5.3/api/_as_gen/matplotlib.pyplot.html) module, which provides a simple interface for generating a wide range of visualizations. Once imported, this module allows you to plot data with just a few lines of code:"
   ]
  },
  {
   "cell_type": "code",
   "execution_count": null,
   "id": "8b839b7d",
   "metadata": {},
   "outputs": [],
   "source": [
    "# import libraries required for the notebook\n",
    "import numpy as np # import numpy as np\n",
    "import matplotlib.pyplot as plt # import matplotlib.pyplot as plt"
   ]
  },
  {
   "cell_type": "code",
   "execution_count": null,
   "id": "c5b8c711",
   "metadata": {},
   "outputs": [],
   "source": [
    "x = np.linspace(0,5,100) # 100 evenly spaced numbers from 0 to 5\n",
    "plt.plot(x, x**2) # plot x^2\n",
    "plt.show() # show the plot"
   ]
  },
  {
   "cell_type": "markdown",
   "id": "c0db3f84",
   "metadata": {},
   "source": [
    "However, if you’d like to have more control over your graph, you can plot the data like this:"
   ]
  },
  {
   "cell_type": "code",
   "execution_count": null,
   "id": "6b296d8c",
   "metadata": {},
   "outputs": [],
   "source": [
    "fig, ax = plt.subplots() # 1 subplot and figure and axes\n",
    "\n",
    "ax.plot(x, x ** 2, \"r-\", label=\"y = x**2\") # plot x^2 in red\n",
    "ax.plot(x, x ** 3, \"b--\", label=\"y = x**3\") # plot x^3 in blue\n",
    "ax.legend(loc=\"upper left\") # add legend on upper left corner\n",
    "ax.set_xlabel(\"x\") # set x label\n",
    "ax.set_ylabel(\"y\") # set y label\n",
    "ax.set_xlim([0, 5]) # set x limits\n",
    "ax.set_ylim([0, 25]) # set y limits\n",
    "ax.set_title(\"quadratic and cubic functions\") # set title\n",
    "\n",
    "plt.show() # show the plot"
   ]
  },
  {
   "cell_type": "markdown",
   "id": "d5eb318d",
   "metadata": {},
   "source": [
    "In the code above, the pyplot `subplots()` function creates instances of the figure (`fig`) and axes (`ax`). We can send methods to `ax` to make our graph.\n",
    "\n",
    "What if we want to add LaTeX-formatted text to our graph? To do this, we use 'raw' text strings, which are prefixed with an `r`. Notice that the LaTeX text is enclosed in dollar signs:"
   ]
  },
  {
   "cell_type": "code",
   "execution_count": null,
   "id": "a9bf1ffa",
   "metadata": {},
   "outputs": [],
   "source": [
    "fig, ax = plt.subplots() # 1 subplot\n",
    "\n",
    "ax.plot(x, x ** 2, \"r-\", label=r\"$y = \\alpha^2$\") # raw text for LaTeX\n",
    "ax.plot(x, x ** 3, \"b--\", label=r\"$y = \\alpha^3$\") # raw text for LaTeX\n",
    "ax.set_xlabel(r\"$\\alpha$\") # raw text for LaTeX\n",
    "ax.set_ylabel(r\"$y$\") # raw text for LaTeX\n",
    "ax.legend(loc=\"upper left\") # legend\n",
    "ax.set_xlim([0, 5]) # x limits\n",
    "ax.set_ylim([0, 25]) # y limits\n",
    "ax.set_title(\"quadratic and cubic functions\") # title\n",
    "\n",
    "plt.show() # show the plot"
   ]
  },
  {
   "cell_type": "markdown",
   "id": "009f6f19",
   "metadata": {},
   "source": [
    "What if we want to plot the functions in both linear and logarithmic graphs side by side? It’s simple — just define the number of rows (1) and columns (2) in the `subplots()` method. You can also set the figure size using the `figsize` attribute. Since there are two subplots, there are two axes objects: `axs[0]` for the left (linear) subplot, and `axs[1]` for the right (logarithmic) subplot:"
   ]
  },
  {
   "cell_type": "code",
   "execution_count": null,
   "id": "19bb06b7",
   "metadata": {},
   "outputs": [],
   "source": [
    "fig, axs = plt.subplots(1, 2, figsize=(10,4)) # 1 x 2 subplots\n",
    "titles = [\"normal scale\", \"logarithmic scale\"] # titles of subplots\n",
    "ymins = [0, 0.1] # min y values of subplots\n",
    "\n",
    "for (ax, title, ymin) in zip(axs, titles, ymins):\n",
    "    ax.plot(x, x ** 2, \"r-\", label=r\"$y = \\alpha^2$\") # plot x^2\n",
    "    ax.plot(x, x ** 3, \"b--\", label=r\"$y = \\alpha^3$\") # plot x^3\n",
    "    ax.grid(True, linestyle=\"dashed\") # grid\n",
    "    ax.legend(loc=\"upper left\") # legend\n",
    "    ax.set_xlabel(r\"$\\alpha$\") # x label\n",
    "    ax.set_ylabel(r\"$y$\") # y label\n",
    "    ax.set_xlim([0, 5]) # x limits\n",
    "    ax.set_ylim([ymin, 25]) # y limits\n",
    "    ax.set_title(title) # title of plot\n",
    "         \n",
    "axs[1].set_yscale(\"log\") # y axis in 2nd subplot is log\n",
    "fig.tight_layout() # nice padding between subplots\n",
    "plt.show() # show the plot"
   ]
  },
  {
   "cell_type": "markdown",
   "id": "2d5a11c9",
   "metadata": {},
   "source": [
    "Let’s plot the functions on both normal and logarithmic scales on the same graph. To do this, we need two y-axes that share the same x-axis. The left y-axis will use a normal scale, while the right one will use a logarithmic scale. The axes `twinx()` function creates a second y-axis that shares the x-axis:"
   ]
  },
  {
   "cell_type": "code",
   "execution_count": null,
   "id": "37f167a5",
   "metadata": {},
   "outputs": [],
   "source": [
    "fig, ax = plt.subplots() # 1 subplot\n",
    "ax1 = ax.twinx() # add new axis sharing the x axis\n",
    "\n",
    "ax_list = [ax, ax1] # list of axes\n",
    "titles = [\"normal scale\", \"logarithmic scale\"] # legend titles\n",
    "locations = [\"upper left\", \"lower right\"] # legend locations\n",
    "\n",
    "for (ax_i, title, location) in zip(ax_list, titles, locations):\n",
    "    ax_i.plot(x, x ** 2, \"r-\", label=r\"$y = \\alpha^2$\") \n",
    "    ax_i.plot(x, x ** 3, \"b-\", label=r\"$y = \\alpha^3$\") \n",
    "    ax_i.set_ylabel(r\"$y$\") \n",
    "    ax_i.set_ylim([0.1, 25]) # y limits\n",
    "    ax_i.legend(loc=location, title=title) # legend\n",
    "\n",
    "ax1.set_yscale(\"log\") # y axis has log scale\n",
    "ax.set_xlabel(r\"$\\alpha$\") \n",
    "ax.set_xlim([0, 5]) # x limits\n",
    "ax.set_title(r\"$x^2$ and $x^3$ in normal and log scales\")\n",
    "plt.show() # show the plot"
   ]
  },
  {
   "cell_type": "markdown",
   "id": "20e5a5b3",
   "metadata": {},
   "source": [
    "The following example demonstrates a 2×2 grid of subplots. To iterate over each subplot, we use the `ravel()` method to flatten the 2×2 axs array into a 1D array. Inside the loop, we use the pyplot `text()` function to add text to each subplot at the specified (x, y) coordinates."
   ]
  },
  {
   "cell_type": "code",
   "execution_count": null,
   "id": "6c9b3716",
   "metadata": {},
   "outputs": [],
   "source": [
    "fig, axs = plt.subplots(2, 2, figsize=(10,4)) \n",
    "\n",
    "for i, ax in enumerate(axs.ravel()):\n",
    "    # plot text in the middle of the subplot\n",
    "    ax.text(0.4, 0.5, f\"subplot {i+1}\", color = \"blue\") \n",
    "\n",
    "fig.tight_layout() # nice padding between subplots\n",
    "plt.show() # show the plot"
   ]
  },
  {
   "cell_type": "markdown",
   "id": "57e24b2b",
   "metadata": {},
   "source": [
    "The object oriented philosophy of the pyplot module is very powerful. You can control every single element of the graph. Here is an example that adds an inset to the plot of the functions so we can see how they are near the origin. Notice that in the code we use the figure `add_axes()` method to add the new inset axes:"
   ]
  },
  {
   "cell_type": "code",
   "execution_count": null,
   "id": "9c93d51a",
   "metadata": {},
   "outputs": [],
   "source": [
    "fig, ax = plt.subplots() # 1 subplot\n",
    "\n",
    "ax.plot(x, x ** 2, \"r-\", label=r\"$y = \\alpha^2$\") # plot x^2\n",
    "ax.plot(x, x ** 3, \"b--\", label=r\"$y = \\alpha^3$\") # plot x^3\n",
    "ax.grid(True, linestyle=\"dashed\") # grid\n",
    "ax.legend(loc=\"lower right\") # legend\n",
    "ax.set_xlabel(r\"$\\alpha$\") # x label\n",
    "ax.set_ylabel(r\"$y$\") # y label\n",
    "ax.set_xlim([0, 5]) # x limits\n",
    "ax.set_ylim([0, 25]) # y limits\n",
    "ax.set_title(\"quadratic and cubic functions\") # title\n",
    "\n",
    "# To make inset, add new inset axes\n",
    "inset_ax = fig.add_axes([0.2, 0.55, 0.25, 0.25]) # x, y, w and h\n",
    "inset_ax.plot(x, x ** 2, \"r-\") # plot x^2\n",
    "inset_ax.plot(x, x ** 3, \"b--\") # plot x^3\n",
    "inset_ax.set_xlim([0, 1]) # x limits\n",
    "inset_ax.set_ylim([0, 1]) # y limits\n",
    "inset_ax.set_xticks([0, 0.5, 1.0]) # set x ticks\n",
    "inset_ax.set_yticks([0.0, 0.5, 1.0]) # set y ticks\n",
    "inset_ax.set_title(\"zoom near origin\") # set title of inset\n",
    "plt.show() # show the plot"
   ]
  },
  {
   "cell_type": "markdown",
   "id": "2548f58f",
   "metadata": {},
   "source": [
    "Saving the plot as an image file (e.g., png, pdf, svg, etc.) at a desired resolution (dots per inch, dpi) is easy:"
   ]
  },
  {
   "cell_type": "code",
   "execution_count": null,
   "id": "f8dab5fc",
   "metadata": {},
   "outputs": [],
   "source": [
    "# save graph as png and resolution = 300 dpi\n",
    "fig.savefig(\"my_first_plot.png\", dpi=300) "
   ]
  },
  {
   "cell_type": "markdown",
   "id": "f52d86f6",
   "metadata": {},
   "source": [
    "Besides the plot method, pyplot offers other functions for generating different types of plots. For a complete list of available plot types, you can check the [Matplotlib plot gallery](https://matplotlib.org/stable/gallery/). Here are a few examples:"
   ]
  },
  {
   "cell_type": "code",
   "execution_count": null,
   "id": "86524869",
   "metadata": {},
   "outputs": [],
   "source": [
    "xx = np.linspace(-0.75, 1., 100) # 100 numbers from -0.75 to 1.0\n",
    "n = np.array([0,1,2,3,4,5]) # another array\n",
    "\n",
    "fig, axs = plt.subplots(1, 4, figsize=(12,3)) # 1 x 4 subplots\n",
    "\n",
    "axs[0].scatter(xx, xx + 0.25*np.random.randn(len(xx))) # scatter\n",
    "axs[0].set_title(\"scatter\") # set title\n",
    "\n",
    "axs[1].step(n, n**2, lw=2) # step\n",
    "axs[1].set_title(\"step\") # set title\n",
    "\n",
    "axs[2].bar(n, n**2, align=\"center\", width=0.5, alpha=0.5) # bar\n",
    "axs[2].set_title(\"bar\") # set title\n",
    "\n",
    "axs[3].fill_between(x, x**2, x**3, color=\"red\", alpha=0.5) # filled\n",
    "axs[3].set_title(\"fill_between\") # set title\n",
    "\n",
    "fig.tight_layout() # nice padding between subplots\n",
    "plt.show() # show the plot"
   ]
  }
 ],
 "metadata": {
  "kernelspec": {
   "display_name": "pfs",
   "language": "python",
   "name": "python3"
  },
  "language_info": {
   "codemirror_mode": {
    "name": "ipython",
    "version": 3
   },
   "file_extension": ".py",
   "mimetype": "text/x-python",
   "name": "python",
   "nbconvert_exporter": "python",
   "pygments_lexer": "ipython3",
   "version": "3.12.9"
  }
 },
 "nbformat": 4,
 "nbformat_minor": 5
}
