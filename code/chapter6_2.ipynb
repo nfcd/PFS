{
 "cells": [
  {
   "cell_type": "markdown",
   "id": "9d625bfd",
   "metadata": {},
   "source": [
    "## Chapter 6: Well logs\n",
    "\n",
    "Let’s now apply the concepts from the previous section to practical subsurface examples, starting with well logs. The file [xeek_train_subset.csv](../data/xeek_train_subset.csv) contains log data for 12 wells in the Norwegian Continental Sector (Force 2020 ML lithology competition). Our objective is to plot the logs for well 16/10-1, as illustrated in Figure 6.4 of the course notes, which displays selected logs and groups in six subplots.\n",
    "\n",
    "A crucial part of making any graph is preparing the data and gathering all necessary inputs. For the example shown in Figure 6.4 of the notes, this process includes the following steps:\n",
    "\n",
    "- Extract the well data. Note that the logs are plotted from 2000 m downwards.\n",
    "\n",
    "- Get the group tops.\n",
    "\n",
    "- Get the group colors from the file [group_colors.csv](../data/group_colors.csv).\n",
    "\n",
    "- Create a figure with six side-by-side subplots.\n",
    "\n",
    "- Plot the logs in the first five subplots, using their respective line colors. \n",
    "    \n",
    "    - Subplots 1 and 2 show just one log curve.\n",
    "    \n",
    "    - Subplots 3 to 5 show two log curves. \n",
    "    \n",
    "    - In subplot 4, the density (`RHOB`) and neutron porosity (`NPHI`) are plotted on separate `x`-axes sharing the same `y`-axis. For the `NPHI` log, the `x`-axis  should be inverted. \n",
    "    \n",
    "    - Subplot 3 requires a logarithmic `x`-axis.\n",
    "    \n",
    "- Display the `GROUP` intervals as colored rectangles in subplot 6.\n",
    "\n",
    "By breaking the graph creation process into sequential steps, we are essentially applying the *divide and conquer* approach. Additionally, by focusing on what needs to be done rather than how to do it, we are practicing *abstraction*.\n",
    "\n",
    "I implemented these steps as functions in the [utilities](plot_utilities/utilities.py) module of our `plot_utilities` package. \n",
    "\n",
    "- The first function `extract_well()` extracts the well data (step 1).\n",
    "\n",
    "- The second function `get_tops()` gets the group tops, and in fact the tops of any intervals (step 2).\n",
    "\n",
    "- The third function `get_colors()` gets the group colors, and in fact the colors of any intervals (step 3).\n",
    "\n",
    "- And the fourth function `plot_logs()` plots the logs (steps 5 and 6).\n",
    "\n",
    "It might feel overwhelming to take in all these functions at once. If any parts are unclear, try running them step by step in separate notebook cells to better understand how they work. What’s important is that we now have the tools to generate a well log graph with ease.\n",
    "\n",
    "Let's begin by extracting the well and getting the groups tops and colors:"
   ]
  },
  {
   "cell_type": "code",
   "execution_count": null,
   "id": "26ae0fbe",
   "metadata": {},
   "outputs": [],
   "source": [
    "# import libraries required for the notebook\n",
    "import os # import os to work with directories\n",
    "import pandas as pd # import pandas as pd\n",
    "import matplotlib.pyplot as plt # import matplotlib.pyplot as plt\n",
    "import plot_utilities as pu # import our plot utilities package"
   ]
  },
  {
   "cell_type": "code",
   "execution_count": null,
   "id": "11eada38",
   "metadata": {},
   "outputs": [],
   "source": [
    "# path to well log data\n",
    "path1 = os.path.join(\"..\", \"data\", \"xeek_train_subset.csv\")\n",
    "# path to group colors\n",
    "path2 = os.path.join(\"..\", \"data\", \"group_colors.csv\")\n",
    "\n",
    "# read the well log data into pandas DataFrame\n",
    "df1 = pd.read_csv(path1)\n",
    "# read the group colors into pandas DataFrame\n",
    "df2 = pd.read_csv(path2) \n",
    "\n",
    "# extract well (step 1)\n",
    "well = \"16/10-1\"\n",
    "well_df = pu.extract_well(df1, well, min_depth=2000)\n",
    "\n",
    "# get groups tops (step 2)\n",
    "group_tops = pu.get_tops(well_df) \n",
    "print(group_tops) \n",
    "\n",
    "# get groups colors (step 3)\n",
    "group_colors = pu.get_colors(well_df, df2)\n",
    "print(group_colors)"
   ]
  },
  {
   "cell_type": "markdown",
   "id": "4809657c",
   "metadata": {},
   "source": [
    "Finally, we can plot the logs. This code generates Figure 6.4 of the notes."
   ]
  },
  {
   "cell_type": "code",
   "execution_count": null,
   "id": "17f8d031",
   "metadata": {},
   "outputs": [],
   "source": [
    "# create figure and axes sharing y axis (step 4)\n",
    "fig, axs = plt.subplots(1, 6, figsize=(12, 10), sharey=True)\n",
    "\n",
    "# plot the logs (steps 5 and 6)\n",
    "pu.plot_logs(well_df, group_tops, group_colors, axs)\n",
    "\n",
    "# present the figure\n",
    "fig.tight_layout()\n",
    "plt.show()"
   ]
  },
  {
   "cell_type": "markdown",
   "id": "0ff7112d",
   "metadata": {},
   "source": [
    "By structuring our code into functions, modules, and packages, we've made it highly versatile. This allows us to plot any well in the dataset or focus on specific intervals with ease.\n",
    "\n",
    "For example, to plot the facies in the well—assuming we have a file that defines facies colors—we can do the following:"
   ]
  },
  {
   "cell_type": "code",
   "execution_count": null,
   "id": "7519a0dc",
   "metadata": {},
   "outputs": [],
   "source": [
    "# rename the last second column to \"FACIES\"\n",
    "well_df = well_df.copy()\n",
    "well_df.rename(columns={well_df.columns[-2]: \"FACIES\"}, \n",
    "               inplace=True)\n",
    "\n",
    "# path to facies colors\n",
    "path3 = os.path.join(\"..\", \"data\", \"facies_colors.csv\")\n",
    "\n",
    "# read the facies colors into pandas DataFrame\n",
    "df3 = pd.read_csv(path3) \n",
    "\n",
    "# get facies tops (step 2)\n",
    "facies_tops = pu.get_tops(well_df, int_col=\"FACIES\")\n",
    "\n",
    "# get facies colors (step 3)\n",
    "facies_colors = pu.get_colors(well_df, df3, int_col=\"FACIES\")\n",
    "\n",
    "# create figure and axes sharing y axis (step 4)\n",
    "fig, axs = plt.subplots(1, 6, figsize=(12, 10), sharey=True)\n",
    "\n",
    "# plot the logs (steps 5 and 6)\n",
    "pu.plot_logs(well_df, facies_tops, facies_colors, axs, \n",
    "             int_col=\"FACIES\")\n",
    "\n",
    "# present the figure\n",
    "fig.tight_layout()\n",
    "plt.show()"
   ]
  }
 ],
 "metadata": {
  "kernelspec": {
   "display_name": "pfs",
   "language": "python",
   "name": "python3"
  },
  "language_info": {
   "codemirror_mode": {
    "name": "ipython",
    "version": 3
   },
   "file_extension": ".py",
   "mimetype": "text/x-python",
   "name": "python",
   "nbconvert_exporter": "python",
   "pygments_lexer": "ipython3",
   "version": "3.12.9"
  }
 },
 "nbformat": 4,
 "nbformat_minor": 5
}
