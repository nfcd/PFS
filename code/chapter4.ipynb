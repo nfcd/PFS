{
 "cells": [
  {
   "cell_type": "markdown",
   "id": "7bf7d8c1",
   "metadata": {},
   "source": [
    "## Chapter 4: Control flow\n",
    "\n",
    "Two fundamental concepts form the backbone of computer programs: decision making (yes or no) and repetition. By default, Python executes code sequentially—one line at a time.However, real-world problems often require more flexible control over that flow. Sometimes, we need to check a condition and, depending on the result, execute certain parts of the code either once or multiple times. To make this possible, Python provides tools for conditional and iterative execution.\n",
    "\n",
    "## Conditional execution\n",
    "\n",
    "For conditional execution, Python provides the `if-else` statement. The syntax\n",
    "of this statement is as follows:\n",
    "\n",
    "```python\n",
    "if expression:\n",
    "    statement_1 \n",
    "else:\n",
    "    statement_2 \n",
    "```\n",
    "\n",
    "Python evaluates the expression inside the `if` statement. If the condition is true, then `statement_1` is executed; otherwise, `statement_2` runs. Notice that both `if` and `else` statements end with a colon (`:`). This signals the start of a block of code. The code inside these blocks must be indented, typically by four spaces. In Python indentation isn’t just for readability—it’s how the language defines which statements belong to which block. \n",
    "\n",
    "Here are few examples:"
   ]
  },
  {
   "cell_type": "code",
   "execution_count": null,
   "id": "be3df072",
   "metadata": {},
   "outputs": [],
   "source": [
    "# import libraries required for the notebook\n",
    "import random # import random library\n",
    "import requests # import requests (for HTTP requests)\n",
    "from io import StringIO # import StringIO (for reading the data)\n",
    "import numpy as np # import numpy as np\n",
    "import pandas as pd # import pandas as pd"
   ]
  },
  {
   "cell_type": "code",
   "execution_count": null,
   "id": "4812cded",
   "metadata": {},
   "outputs": [],
   "source": [
    "# convert from Celsius to Fahrenheit and vice versa\n",
    "\n",
    "# define temperature unit and value\n",
    "t_type = \"C\"\n",
    "t_val = 23.0\n",
    "\n",
    "# do the conversion\n",
    "if t_type == \"C\":\n",
    "    tc_type = \"F\"\n",
    "    tc_val = 9 / 5 * t_val + 32\n",
    "else:\n",
    "    tc_type = \"C\"\n",
    "    tc_val = 5 / 9 * (t_val - 32)\n",
    "\n",
    "print(f\"{t_val:.2f} {t_type} = {tc_val:.2f} {tc_type}\")"
   ]
  },
  {
   "cell_type": "code",
   "execution_count": null,
   "id": "37f92710",
   "metadata": {},
   "outputs": [],
   "source": [
    "# the else statement is sometimes not needed\n",
    "\n",
    "my_vector = np.array([1, 2, 3])\n",
    "\n",
    "# if my_vector is not a unit vector make it a unit vector\n",
    "if np.linalg.norm(my_vector) != 1.0:\n",
    "    my_vector = my_vector / np.linalg.norm(my_vector)\n",
    "    \n",
    "print(f\"vector magnitude = {np.linalg.norm(my_vector):.2f}\")"
   ]
  },
  {
   "cell_type": "code",
   "execution_count": null,
   "id": "a927815d",
   "metadata": {},
   "outputs": [],
   "source": [
    "# it is possible to include more than one\n",
    "# condition using the elif statement\n",
    "\n",
    "azimuth = 232 # angle between 0 and 360 deg\n",
    "\n",
    "if azimuth == 0 or azimuth == 360:\n",
    "    direction = \"N\"\n",
    "elif azimuth > 0 and azimuth < 90:\n",
    "    direction = \"NE\"\n",
    "elif azimuth == 90:\n",
    "    direction = \"E\"\n",
    "elif azimuth > 90 and azimuth < 180:\n",
    "    direction = \"SE\"\n",
    "elif azimuth == 180:\n",
    "    direction = \"S\"\n",
    "elif azimuth > 180 and azimuth < 270:\n",
    "    direction = \"SW\"\n",
    "elif azimuth == 270:\n",
    "    direction = \"W\"\n",
    "else:\n",
    "    direction = \"NW\"\n",
    "\n",
    "print(f\"Azimuth {azimuth} = {direction} direction\")"
   ]
  },
  {
   "cell_type": "markdown",
   "id": "22aeac36",
   "metadata": {},
   "source": [
    "In the cell above, `and` and `or` are logical operators. They are used to combine conditional statements. Another logical operator is `not`, which negates a Boolean value-returning `False` if the condition is `True`, and vice versa. You can learn more about logical operators [here](https://www.w3schools.com/python/gloss_python_logical_operators.asp).\n",
    "\n",
    "Let’s move on to something more interesting—reading monthly production data for fields on the NCS directly from Factpages. The code below handles this task by first constructing the appropriate URL. It then uses Python’s [requests](https://pypi.org/project/requests/) library to fetch the data. If the request is successful, the data is read into a DataFrame; otherwise, an error message is displayed."
   ]
  },
  {
   "cell_type": "code",
   "execution_count": null,
   "id": "905e5288",
   "metadata": {},
   "outputs": [],
   "source": [
    "# read data from NOD factpages\n",
    "\n",
    "# construct the URL\n",
    "u_1 = \"https://factpages.sodir.no/public?/Factpages/external/tableview/\"\n",
    "u_2 = \"&rs:Command=Render&rc:Toolbar=false&rc:Parameters=f\"\n",
    "u_3 = \"&IpAddress=not_used&CultureCode=en&rs:Format=CSV&Top100=false\"\n",
    "descriptor = \"field_production_monthly\"\n",
    "url = u_1 + descriptor + u_2 + u_3\n",
    "\n",
    "# request the data\n",
    "response = requests.get(url)\n",
    "# if the request was successful\n",
    "if response.status_code == 200:\n",
    "    # load csv data into a DataFrame. StringIO wraps the string\n",
    "    # so it can be read as a file\n",
    "    df = pd.read_csv(StringIO(response.text))\n",
    "    # output DataFrame info\n",
    "    df.info()\n",
    "else:\n",
    "    print(f\"Error: {response.status_code}\")"
   ]
  },
  {
   "cell_type": "markdown",
   "id": "0b55e32b",
   "metadata": {},
   "source": [
    "## Iterative execution\n",
    "\n",
    "Python offers two types of loops for iterative execution: `while` loops and `for` loops. These are used when you need to run a block of code multiple times.\n",
    "\n",
    "## While loops\n",
    "\n",
    "The syntax of the `while` loop is as follows:\n",
    "\n",
    "```python\n",
    "initialize_variable\n",
    "\n",
    "while expression:\n",
    "    statement \n",
    "    modify variable \n",
    "```\n",
    "We start by initializing a variable. Then, Python evaluates an expression that involves this variable. If the expression is true, the loop’s body is executed; if not, the program exits the loop. The loop continues to run as long as the expression remains true. It is important to update the variable inside the loop—otherwise, the condition may never become false, resulting in an infinite loop. \n",
    "\n",
    "These are some examples:"
   ]
  },
  {
   "cell_type": "code",
   "execution_count": null,
   "id": "c952568d",
   "metadata": {},
   "outputs": [],
   "source": [
    "# sum numbers from 0 to 99_999 that are multiple of 3 or 5\n",
    "\n",
    "number = 0 # number\n",
    "sum = 0 # sum\n",
    "while number < 100_000: \n",
    "    # if number is multiple of 3 or 5\n",
    "    if number % 3 == 0 or number % 5 == 0: \n",
    "        sum += number # add number to sum\n",
    "    number += 1 # increment number\n",
    "\n",
    "print(f\"Sum of numbers = {sum}\")"
   ]
  },
  {
   "cell_type": "code",
   "execution_count": null,
   "id": "35bb01df",
   "metadata": {},
   "outputs": [],
   "source": [
    "# calculate pressure in a column of\n",
    "# 200 m water and 300 m rock\n",
    "\n",
    "g = 9.81 # gravity in m/s^2\n",
    "rho_w = 1000 # water density in kg/m^3\n",
    "d_w = 200 # water depth in m\n",
    "p_w = rho_w * g * d_w # pressure at sea bottom in Pa\n",
    "rho_r = 2700 # rock density in kg/m^3\n",
    "\n",
    "d = 0.0 # initial depth in m\n",
    "\n",
    "# table heading: <10 means left aligned with 10 characters\n",
    "print(f\"{\"Depth[m]\":<10} Pressure[kPa]\")\n",
    "print(\"-\" * 25)\n",
    "\n",
    "while d <= 500.0: # while depth is < 500 m\n",
    "    if d <= d_w: # if in water\n",
    "        p = rho_w * g * d\n",
    "    else: # else if in rock\n",
    "        p = p_w + rho_r * g * (d - d_w)\n",
    "    # print depth and pressure in kPa\n",
    "    print(f\"{d:<10.1f} {p*1e-3:.1f}\") \n",
    "    # update depth\n",
    "    d += 50.0 "
   ]
  },
  {
   "cell_type": "markdown",
   "id": "64f77db1",
   "metadata": {},
   "source": [
    "The `while` loop is especially useful in situations where the number of iterations isn’t known in advance. For example:"
   ]
  },
  {
   "cell_type": "code",
   "execution_count": null,
   "id": "5e4b58e0",
   "metadata": {},
   "outputs": [],
   "source": [
    "# simulate rolling two dice until double sixes are rolled\n",
    "\n",
    "attempts = 0\n",
    "die1 = die2 = 1\n",
    "\n",
    "while die1 != 6 or die2 != 6:\n",
    "    die1 = random.randint(1, 6)\n",
    "    die2 = random.randint(1, 6)\n",
    "    attempts += 1\n",
    "    \n",
    "print(f\"It took {attempts} roll(s) to get double sixes!\")"
   ]
  },
  {
   "cell_type": "markdown",
   "id": "f78a06fc",
   "metadata": {},
   "source": [
    "We don’t know how many attempts it will take to roll double sixes — it’s entirely random. This example also demonstrates the use of Python’s built-in [random](https://docs.python.org/3/library/random.html) module.\n",
    "\n",
    "## For loops\n",
    "\n",
    "The for loop has a simpler syntax:\n",
    "\n",
    "```python\n",
    "for item in sequence:\n",
    "    statement  \n",
    "```\n",
    "\n",
    "The syntax comprises an `item` and a `sequence`. The sequence can be any collection of data. During the execution of the loop, the first element of the sequence is assigned to `item` and the statement(s) of the loop body are executed, then the next element is assigned to `item` and the statement(s) are again executed, and so on until all elements of the sequence are exhausted. \n",
    "\n",
    "Let’s try the examples above, but this time using a `for` loop:"
   ]
  },
  {
   "cell_type": "code",
   "execution_count": null,
   "id": "01f2283f",
   "metadata": {},
   "outputs": [],
   "source": [
    "# sum numbers from 0 to 99_999 that are multiple of 3 or 5\n",
    "\n",
    "sum = 0 # sum\n",
    "\n",
    "for number in np.arange(100_000): # for number 0 to 99_999\n",
    "    # if number is multiple of 3 or 5\n",
    "    if number % 3 == 0 or number % 5 == 0: \n",
    "        sum += number # add number to sum\n",
    "\n",
    "print(f\"Sum of numbers = {sum}\")"
   ]
  },
  {
   "cell_type": "code",
   "execution_count": null,
   "id": "afef34a2",
   "metadata": {},
   "outputs": [],
   "source": [
    "# calculate pressure in a column of\n",
    "# 200 m water and 300 m rock\n",
    "\n",
    "# input variables as before\n",
    "\n",
    "# table heading\n",
    "print(f\"{\"Depth[m]\":<10} Pressure[kPa]\")\n",
    "print(\"-\" * 25)\n",
    "\n",
    "# depths from 0 to 500 m\n",
    "ds = np.arange(0, 501, 50) \n",
    "#ds = np.linspace(0, 500, 11) # another option\n",
    "\n",
    "for d in ds: \n",
    "    if d <= d_w: # if in water\n",
    "        p = rho_w * g * d\n",
    "    else: # else if in rock\n",
    "        p = p_w + rho_r * g * (d - d_w)\n",
    "    # print depth and pressure in kPa\n",
    "    print(f\"{d:<10.1f} {p*1e-3:.1f}\")  "
   ]
  },
  {
   "cell_type": "markdown",
   "id": "4033b4be",
   "metadata": {},
   "source": [
    "In the two examples above, we use NumPy’s `arange()` function to create an array that starts at a given value (default is 0) and goes up to, but does not include, the end value, using a specified step size (default is 1). Alternatively, the `linspace()` function can be used to create an array from start to end, but instead of defining the step size, you specify the total number of elements. In short, `arange()` lets you control the step size, while `linspace()` lets you control the number of steps.\n",
    "\n",
    "## zip, enumerate and break\n",
    "\n",
    "In `for` loops, it’s often useful to iterate over more than one sequence (like lists) at the same time—this is where the built-in `zip()` function comes in handy, by pairing elements together from each iterable. Here is one example:"
   ]
  },
  {
   "cell_type": "code",
   "execution_count": null,
   "id": "1cc7dae2",
   "metadata": {},
   "outputs": [],
   "source": [
    "minerals = [\"Quartz\", \"Gypsum\", \"Talc\"]\n",
    "hardness = [7, 2, 1]\n",
    "\n",
    "for mineral, hard in zip(minerals, hardness):\n",
    "    print(f\"{mineral} hardness is {hard}\")"
   ]
  },
  {
   "cell_type": "markdown",
   "id": "e64b08cf",
   "metadata": {},
   "source": [
    "It is also possible to extract the index of the iteration along with the elements by using the built-in `enumerate()` function, which makes it easy to track the position in the sequence while iterating:"
   ]
  },
  {
   "cell_type": "code",
   "execution_count": null,
   "id": "f6840c0d",
   "metadata": {},
   "outputs": [],
   "source": [
    "for i, (mineral, hard) in enumerate(zip(minerals, hardness)):\n",
    "    print(f\"{i+1}. {mineral} hardness is {hard}\")"
   ]
  },
  {
   "cell_type": "markdown",
   "id": "e0b86b5d",
   "metadata": {},
   "source": [
    "Finally, you can use the `break` statement to stop a loop and exit it. Here’s an example:"
   ]
  },
  {
   "cell_type": "code",
   "execution_count": null,
   "id": "38683d53",
   "metadata": {},
   "outputs": [],
   "source": [
    "number = random.randint(0, 100) # random number between 0 and 100\n",
    "\n",
    "while True:\n",
    "    # ask user for a guess, int is used to convert input to int\n",
    "    guess = int(input(\"Guess the number: \")) \n",
    "    if guess == number: # if guess is correct\n",
    "        print(\"You guessed it!\")\n",
    "        break # exit the loop\n",
    "    elif guess < number: # if guess is too low\n",
    "        print(\"Too low!\")\n",
    "    else: # if guess is too high\n",
    "        print(\"Too high!\")"
   ]
  },
  {
   "cell_type": "markdown",
   "id": "cfaee19b",
   "metadata": {},
   "source": [
    "## Vectorization\n",
    "\n",
    "Vectorized operations can significantly improve the performance of your code. Below is a vectorized version of the depth versus pressure code above. It gives the same output:"
   ]
  },
  {
   "cell_type": "code",
   "execution_count": null,
   "id": "cce63cd7",
   "metadata": {},
   "outputs": [],
   "source": [
    "# table heading\n",
    "print(f\"{\"Depth[m]\":<10} Pressure[kPa]\")\n",
    "print(\"-\" * 25)\n",
    "\n",
    "water = ds <= 200.0 # boolean array for water\n",
    "rock = ds > 200.0  # boolean array for rock\n",
    "\n",
    "# calculate pressures, this gives an array\n",
    "ps = rho_w * g * ds * water + (p_w + rho_r * g * (ds - d_w)) * rock\n",
    "\n",
    "for d, p in zip(ds, ps): # iterate over depth and pressure\n",
    "    # print depth and pressure in kPa\n",
    "    print(f\"{d:<10.1f} {p*1e-3:.1f}\")  "
   ]
  },
  {
   "cell_type": "markdown",
   "id": "7d34faff",
   "metadata": {},
   "source": [
    "The boolean arrays `water` and `rock` indicate the depths at which these materials are present. Pressures (`ps`) are calculated in a single line using vectorized operations. In this calculation, the `water` and `rock` arrays are automatically converted by Python: `True` values become 1 and `False` values become 0. Finally, the `for` loop outputs the depths and corresponding pressures. The `zip()` function allows simultaneous iteration over the `ds` (depths) and `ps` (pressures) arrays.\n",
    "\n",
    "While the performance gain in this example is minimal—since the code involves few operations—the advantages of vectorization become much more apparent in computation-heavy tasks. When working with large datasets or complex numerical calculations, it’s a good practice to consider vectorization. However, aim for a balance between performance and clarity to ensure your code remains efficient and easy to understand."
   ]
  },
  {
   "cell_type": "markdown",
   "id": "38b5d178",
   "metadata": {},
   "source": [
    "## List comprehensions\n",
    "\n",
    "List comprehensions are a concise and powerful feature in Python that allow you to quickly create new lists by looping over a collection and optionally filtering its elements. The basic syntax is:\n",
    "\n",
    "```python\n",
    "[expression for value in collection if condition]\n",
    "```\n",
    "List comprehensions combine looping and conditionals into a single, readable\n",
    "line. The conditional part is optional. Let’s revisit the same two examples:"
   ]
  },
  {
   "cell_type": "code",
   "execution_count": null,
   "id": "adfc28bd",
   "metadata": {},
   "outputs": [],
   "source": [
    "# sum numbers from 0 to 99_999 that are multiple of 3 or 5\n",
    "\n",
    "numbers = np.arange(100_000) # numbers\n",
    "\n",
    "# find multiples of 3 and 5 using list comprehension\n",
    "multiples = [number for number in numbers if number % 3 == 0 or number % 5 == 0]\n",
    "\n",
    "sum = np.sum(multiples) # sum multiples\n",
    "\n",
    "print(f\"Sum of numbers = {sum}\")"
   ]
  },
  {
   "cell_type": "code",
   "execution_count": null,
   "id": "a29becb9",
   "metadata": {},
   "outputs": [],
   "source": [
    "# table heading\n",
    "print(f\"{\"Depth[m]\":<10} Pressure[kPa]\")\n",
    "print(\"-\" * 25)\n",
    "\n",
    "# calculate pressures using list comprehension\n",
    "ps = [rho_w*g*d if d <= 200.0 else p_w+rho_r*g*(d-d_w) for d in ds]\n",
    "\n",
    "for d, p in zip(ds, ps): \n",
    "    # print depth and pressure in kPa\n",
    "    print(f\"{d:<10.1f} {p*1e-3:.1f}\")  "
   ]
  },
  {
   "cell_type": "markdown",
   "id": "4fe09b56",
   "metadata": {},
   "source": [
    "This is pretty slick but perhaps not as clear as using a loop to calculate pressures."
   ]
  },
  {
   "cell_type": "markdown",
   "id": "984052bc",
   "metadata": {},
   "source": [
    "## Exercise 1\n",
    "\n",
    "The file [xeek_train_subset.csv](../data/xeek_train_subset.csv) contains well log data including gamma ray (`GR`) values and stratigraphic information.\n",
    "\n",
    "a. Extract the data for well 16/10-1 into a Pandas DataFrame. \n",
    "\n",
    "b. From the gamma ray log (column `GR`), compute a new column called `VSH` (Volume of Shale) using different equations depending on the age of the rocks. For rocks older than the Tertiary, use the following equation:\n",
    "\n",
    "$$\n",
    "\\text { VSH }=\\mathrm{IGR}=(\\mathrm{GR}-\\mathrm{GR} \\min ) /(\\mathrm{GR} \\max -\\mathrm{GR} \\min )\n",
    "$$\n",
    "\n",
    "where GR is the gamma ray value for the sample, GR min is the minimum GR (0), and GR max is the maximum GR (200). \n",
    "\n",
    "For Tertiary and younger rocks, specifically the Nordland, Hordaland and Rogaland groups, use:\n",
    "\n",
    "$$\n",
    "\\text { VSH }=0.083 \\text { * }(2^{(3.7 * \\text { IGR })}-1)\n",
    "$$\n",
    "\n",
    "Hints:\n",
    "\n",
    "- You should first compute `IGR` using the formula for all rows.\n",
    "\n",
    "- Then apply the appropriate VSH equation depending on the group name (in the `GROUP` column).\n",
    "\n",
    "- Add the resulting `VSH` values as a new column in the DataFrame."
   ]
  },
  {
   "cell_type": "code",
   "execution_count": null,
   "id": "2e1b129b",
   "metadata": {},
   "outputs": [],
   "source": [
    "# Do Exercise 1 here"
   ]
  },
  {
   "cell_type": "markdown",
   "id": "10987956",
   "metadata": {},
   "source": [
    "## Exercise 2\n",
    "\n",
    "You are provided with two datasets:\n",
    "\n",
    "- [group_colors.csv](../data/group_colors.csv): Contains color information for each geological group. Each color is represented as a list of three integers corresponding to red, green, and blue (RGB) values, ranging from 0 to 255.\n",
    "\n",
    "- [xeek_train_subset.csv](../data/xeek_train_subset.csv): Contains log data for multiple wells, including a column named GROUP indicating the group for each record.\n",
    "\n",
    "For the well 16/10-1, create a dictionary where:\n",
    "\n",
    "- Each key is the name of a group found in that well.\n",
    "\n",
    "- Each value is a list representing the RGB color of the group, normalized so that each component is between 0 and 1 (by dividing by 255), and rounded to two decimal places."
   ]
  },
  {
   "cell_type": "code",
   "execution_count": null,
   "id": "94ef431e",
   "metadata": {},
   "outputs": [],
   "source": [
    "# Do exercise 2 here"
   ]
  },
  {
   "cell_type": "markdown",
   "id": "c8641efd",
   "metadata": {},
   "source": [
    "## Exercise 3\n",
    "\n",
    "This exercise builds on Exercise 2 and continues working with the well 16/10-1 from the dataset [xeek_train_subset.csv](../data/xeek_train_subset.csv).\n",
    "\n",
    "a. Create a dictionary that maps each geological group present in the well to its top depth defined as the shallowest `DEPTH_MD` value where that group appears.\n",
    "\n",
    "Hints:\n",
    "\n",
    "- Filter the data to include only rows for well 16/10-1.\n",
    "\n",
    "- For each unique group in the `GROUP` column, find the minimum value in the `DEPTH_MD` column where that group occurs.\n",
    "\n",
    "- Construct a dictionary where the keys are the group names, and the values are the corresponding top depths."
   ]
  },
  {
   "cell_type": "code",
   "execution_count": null,
   "id": "d68f6410",
   "metadata": {},
   "outputs": [],
   "source": [
    "# Do Exercise 3a here"
   ]
  },
  {
   "cell_type": "markdown",
   "id": "b33971c7",
   "metadata": {},
   "source": [
    "b. The above procedure will not work if the interval of interest is repeated in the well. For groups this does not seem to be a problem, but for facies (column `FORCE_2020_LITHOFACIES_LITHOLOGY`) it is. Create a dictionary that maps each facies in the well to its top depth.\n",
    "\n",
    "Hints:\n",
    "\n",
    "- Find the top depth of each facies. This is the first row where a new facies appears.\n",
    "\n",
    "- Build a dictionary mapping facies to their top depths. If a facies appears more than once, append the row index to the key (e.g. \"65000-3\")."
   ]
  },
  {
   "cell_type": "code",
   "execution_count": null,
   "id": "f47490de",
   "metadata": {},
   "outputs": [],
   "source": [
    "# Do Exercise 3b here"
   ]
  }
 ],
 "metadata": {
  "kernelspec": {
   "display_name": "pfs",
   "language": "python",
   "name": "python3"
  },
  "language_info": {
   "codemirror_mode": {
    "name": "ipython",
    "version": 3
   },
   "file_extension": ".py",
   "mimetype": "text/x-python",
   "name": "python",
   "nbconvert_exporter": "python",
   "pygments_lexer": "ipython3",
   "version": "3.12.9"
  }
 },
 "nbformat": 4,
 "nbformat_minor": 5
}
